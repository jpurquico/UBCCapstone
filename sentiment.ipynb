{
 "cells": [
  {
   "cell_type": "markdown",
   "metadata": {},
   "source": [
    "## Sentiment Analysis Experiment\n",
    "Adapted from COLX565 Lab 1"
   ]
  },
  {
   "cell_type": "markdown",
   "metadata": {},
   "source": [
    "### 1. Load Datasets"
   ]
  },
  {
   "cell_type": "code",
   "execution_count": 60,
   "metadata": {},
   "outputs": [],
   "source": [
    "import pandas as pd"
   ]
  },
  {
   "cell_type": "code",
   "execution_count": 61,
   "metadata": {},
   "outputs": [],
   "source": [
    "vaccine_df = pd.read_csv('../../data/vaccine_full.csv')\n",
    "travel_df = pd.read_csv('../../data/travel_full.csv')"
   ]
  },
  {
   "cell_type": "code",
   "execution_count": 62,
   "metadata": {},
   "outputs": [],
   "source": [
    "vaccine_df = vaccine_df.dropna()[['Comment', 'Tags']]\n",
    "travel_df = travel_df.dropna()[['Comment', 'Tags']]"
   ]
  },
  {
   "cell_type": "code",
   "execution_count": 63,
   "metadata": {},
   "outputs": [
    {
     "data": {
      "text/html": [
       "<div>\n",
       "<style scoped>\n",
       "    .dataframe tbody tr th:only-of-type {\n",
       "        vertical-align: middle;\n",
       "    }\n",
       "\n",
       "    .dataframe tbody tr th {\n",
       "        vertical-align: top;\n",
       "    }\n",
       "\n",
       "    .dataframe thead th {\n",
       "        text-align: right;\n",
       "    }\n",
       "</style>\n",
       "<table border=\"1\" class=\"dataframe\">\n",
       "  <thead>\n",
       "    <tr style=\"text-align: right;\">\n",
       "      <th></th>\n",
       "      <th>Comment</th>\n",
       "      <th>Tags</th>\n",
       "    </tr>\n",
       "  </thead>\n",
       "  <tbody>\n",
       "    <tr>\n",
       "      <th>0</th>\n",
       "      <td>I want to see how many of the current covid ca...</td>\n",
       "      <td>Data and tracking vaccines</td>\n",
       "    </tr>\n",
       "    <tr>\n",
       "      <th>2</th>\n",
       "      <td>I wanted to know the number of deaths.</td>\n",
       "      <td>Data and tracking vaccines</td>\n",
       "    </tr>\n",
       "    <tr>\n",
       "      <th>3</th>\n",
       "      <td>Are you hiding the deaths from vaccination?</td>\n",
       "      <td>Data and tracking vaccines</td>\n",
       "    </tr>\n",
       "    <tr>\n",
       "      <th>4</th>\n",
       "      <td>How come there are so few reported deaths in t...</td>\n",
       "      <td>Data and tracking vaccines</td>\n",
       "    </tr>\n",
       "    <tr>\n",
       "      <th>5</th>\n",
       "      <td>Each province should state total vaccinations ...</td>\n",
       "      <td>Data and tracking vaccines</td>\n",
       "    </tr>\n",
       "  </tbody>\n",
       "</table>\n",
       "</div>"
      ],
      "text/plain": [
       "                                             Comment  \\\n",
       "0  I want to see how many of the current covid ca...   \n",
       "2             I wanted to know the number of deaths.   \n",
       "3        Are you hiding the deaths from vaccination?   \n",
       "4  How come there are so few reported deaths in t...   \n",
       "5  Each province should state total vaccinations ...   \n",
       "\n",
       "                         Tags  \n",
       "0  Data and tracking vaccines  \n",
       "2  Data and tracking vaccines  \n",
       "3  Data and tracking vaccines  \n",
       "4  Data and tracking vaccines  \n",
       "5  Data and tracking vaccines  "
      ]
     },
     "execution_count": 63,
     "metadata": {},
     "output_type": "execute_result"
    }
   ],
   "source": [
    "vaccine_df.head()"
   ]
  },
  {
   "cell_type": "code",
   "execution_count": 64,
   "metadata": {},
   "outputs": [
    {
     "data": {
      "text/html": [
       "<div>\n",
       "<style scoped>\n",
       "    .dataframe tbody tr th:only-of-type {\n",
       "        vertical-align: middle;\n",
       "    }\n",
       "\n",
       "    .dataframe tbody tr th {\n",
       "        vertical-align: top;\n",
       "    }\n",
       "\n",
       "    .dataframe thead th {\n",
       "        text-align: right;\n",
       "    }\n",
       "</style>\n",
       "<table border=\"1\" class=\"dataframe\">\n",
       "  <thead>\n",
       "    <tr style=\"text-align: right;\">\n",
       "      <th></th>\n",
       "      <th>Comment</th>\n",
       "      <th>Tags</th>\n",
       "    </tr>\n",
       "  </thead>\n",
       "  <tbody>\n",
       "    <tr>\n",
       "      <th>0</th>\n",
       "      <td>Quero viajar de Portugal para a Inglaterra</td>\n",
       "      <td>Restrictions or Requirements</td>\n",
       "    </tr>\n",
       "    <tr>\n",
       "      <th>2</th>\n",
       "      <td>Why if fully vaccinated would you need to quar...</td>\n",
       "      <td>Quarantine</td>\n",
       "    </tr>\n",
       "    <tr>\n",
       "      <th>4</th>\n",
       "      <td>I'm trying to figure out if I can quarantine o...</td>\n",
       "      <td>Quarantine</td>\n",
       "    </tr>\n",
       "    <tr>\n",
       "      <th>5</th>\n",
       "      <td>What if you are fully vacinated? \\r\\n####@####...</td>\n",
       "      <td>Restrictions or Requirements</td>\n",
       "    </tr>\n",
       "    <tr>\n",
       "      <th>6</th>\n",
       "      <td>where do I go to check in daily?\\r\\n</td>\n",
       "      <td>Other (Contact / Travel outside / ArriveCan / ...</td>\n",
       "    </tr>\n",
       "  </tbody>\n",
       "</table>\n",
       "</div>"
      ],
      "text/plain": [
       "                                             Comment  \\\n",
       "0        Quero viajar de Portugal para a Inglaterra    \n",
       "2  Why if fully vaccinated would you need to quar...   \n",
       "4  I'm trying to figure out if I can quarantine o...   \n",
       "5  What if you are fully vacinated? \\r\\n####@####...   \n",
       "6               where do I go to check in daily?\\r\\n   \n",
       "\n",
       "                                                Tags  \n",
       "0                       Restrictions or Requirements  \n",
       "2                                         Quarantine  \n",
       "4                                         Quarantine  \n",
       "5                       Restrictions or Requirements  \n",
       "6  Other (Contact / Travel outside / ArriveCan / ...  "
      ]
     },
     "execution_count": 64,
     "metadata": {},
     "output_type": "execute_result"
    }
   ],
   "source": [
    "travel_df.head()"
   ]
  },
  {
   "cell_type": "markdown",
   "metadata": {},
   "source": [
    "### 2. Fetch Sentiment Lexicon"
   ]
  },
  {
   "cell_type": "code",
   "execution_count": 65,
   "metadata": {},
   "outputs": [],
   "source": [
    "import gensim\n",
    "from nltk.data import find\n",
    "from nltk.corpus import sentence_polarity,pros_cons,opinion_lexicon\n",
    "from nltk.corpus import sentiwordnet as swn\n",
    "from nltk.corpus import wordnet as wn\n",
    "import numpy as np\n",
    "from scipy.spatial.distance import cosine\n",
    "from scipy.sparse import csr_matrix, lil_matrix\n",
    "import urllib.request"
   ]
  },
  {
   "cell_type": "code",
   "execution_count": 66,
   "metadata": {},
   "outputs": [],
   "source": [
    "## Fetch and create VADER lexicon\n",
    "VADER_lexicon = {}\n",
    "\n",
    "location = \"https://raw.githubusercontent.com/cjhutto/vaderSentiment/master/vaderSentiment/vader_lexicon.txt\"\n",
    "f = urllib.request.urlopen(location)\n",
    "for line in f:\n",
    "    line = line.decode(\"utf-8\")\n",
    "    stuff = line.strip().split(\"\\t\")\n",
    "    VADER_lexicon[stuff[0]] = float(stuff[1])"
   ]
  },
  {
   "cell_type": "code",
   "execution_count": 67,
   "metadata": {},
   "outputs": [],
   "source": [
    "## Fetch and creat SO_CAL intensifier lexicon\n",
    "SO_CAL_int = {}\n",
    "\n",
    "location = \"https://raw.githubusercontent.com/sfu-discourse-lab/SO-CAL/master/Resources/dictionaries/English/\"\n",
    "f = urllib.request.urlopen(location + \"int_dictionary1.11.txt\")\n",
    "for line in f:\n",
    "    line = line.decode(\"latin-1\")\n",
    "    if line.strip() and \"_\" not in line:\n",
    "        word, intensity = line.strip().split()\n",
    "        SO_CAL_int[word] = float(intensity) + 1"
   ]
  },
  {
   "cell_type": "markdown",
   "metadata": {},
   "source": [
    "### 3. Calculating Sentiment"
   ]
  },
  {
   "cell_type": "code",
   "execution_count": 68,
   "metadata": {},
   "outputs": [],
   "source": [
    "negatives = {\"no\",\"not\"}\n",
    "\n",
    "def calculate_SO(text,lexicon,ints=None, negs=None,verbose=False):\n",
    "    '''calculate a semantic orientation for a text as the sum of the semantic orientation\n",
    "    of the words of the text as provided by lexicon, modified by the effect of intensifiers\n",
    "    if ints is True, and negators if negs is true. Returns the SO unless verbose is True,\n",
    "    at which point it returns both the SO and a list of tuples correspond to each SO-bearing\n",
    "    word and the SO calculated for that word'''\n",
    "    total = 0\n",
    "    if verbose:\n",
    "        SO_word_list = []\n",
    "    for i, word in enumerate(text.strip().split()):\n",
    "        if word in lexicon:\n",
    "            SO = lexicon[word]\n",
    "            if i > 0:\n",
    "                prev_word = text[i-1].lower()\n",
    "                if ints and prev_word in ints:\n",
    "                    SO *= ints[prev_word]\n",
    "                elif negs and prev_word in negs:\n",
    "                    if SO < 0:\n",
    "                        SO += 4\n",
    "                    elif SO > 0:\n",
    "                        SO -= 4\n",
    "                        \n",
    "            if verbose:\n",
    "                SO_word_list.append((word,SO))\n",
    "                \n",
    "            total += SO\n",
    "            \n",
    "        elif '??' in word or '!!' in word:\n",
    "            SO = -2\n",
    "            total += SO\n",
    "            if verbose:\n",
    "                SO_word_list.append((word,SO))\n",
    "    \n",
    "    total = round(total, 2)\n",
    "    if verbose:\n",
    "        return (total,SO_word_list)\n",
    "    else:\n",
    "        return total"
   ]
  },
  {
   "cell_type": "code",
   "execution_count": 69,
   "metadata": {},
   "outputs": [],
   "source": [
    "def evaluate_corpus_sentiment(corpus_df, lexicon, ints=None, negs=None, verbose=False):\n",
    "    '''gives the general sentiment of the given corpus, or when verbose is True, provides the best and worst comments in the corpus\n",
    "    and their respective SO scores'''\n",
    "    comments = corpus_df.Comment\n",
    "    total_SO = 0\n",
    "    highest_SO = 0\n",
    "    lowest_SO = 0\n",
    "    most_neg_comment = \"\"\n",
    "    most_pos_comment = \"\"\n",
    "    for comment in comments:\n",
    "        SO = calculate_SO(comment, lexicon, ints=ints, negs=negs)\n",
    "        \n",
    "        if SO > highest_SO:\n",
    "            highest_SO = SO\n",
    "            most_pos_comment = comment\n",
    "            \n",
    "        if SO < lowest_SO:\n",
    "            lowest_SO = SO\n",
    "            most_neg_comment = comment\n",
    "            \n",
    "        total_SO+=SO\n",
    "        \n",
    "    if verbose:\n",
    "        return f\"Overal sentiment score: {round(total_SO/len(corpus_df), 4)}\", f\"Best comment: {most_pos_comment, calculate_SO(most_pos_comment, lexicon, ints=ints, negs=negs, verbose=True)}\", f\"Worst comment: {most_neg_comment, calculate_SO(most_neg_comment, lexicon, ints=ints, negs=negs, verbose=True)}\"\n",
    "    else:\n",
    "        return f\"Overal sentiment score: {round(total_SO/len(corpus_df), 4)}\"\n",
    "            "
   ]
  },
  {
   "cell_type": "markdown",
   "metadata": {},
   "source": [
    "#### 3.a Calculate Vaccine Sentiment "
   ]
  },
  {
   "cell_type": "code",
   "execution_count": 70,
   "metadata": {},
   "outputs": [
    {
     "data": {
      "text/plain": [
       "('Overal sentiment score: 0.0113',\n",
       " \"Best comment: ('What physical distancing and other safety measures does Health Canada recommend for people who have COVID 19 vaccines? For example, is it safe to invite vaccinated friends and family into our home to share a meal?', (9.1, [('safety', 1.8), ('recommend', 1.5), ('safe', 1.9), ('invite', 0.6), ('friends', 2.1), ('share', 1.2)]))\",\n",
       " \"Worst comment: ('Question asked: what does covid-19 vaccination do? Does it mean you are orotected from becoming infected and from being contagious m, or does it mean you will suffer fewer effects if you become infected with reduced likelihood of death or hospitalisation. ', (-11.2, [('infected', -2.2), ('contagious', -1.4), ('suffer', -2.5), ('infected', -2.2), ('death', -2.9)]))\")"
      ]
     },
     "execution_count": 70,
     "metadata": {},
     "output_type": "execute_result"
    }
   ],
   "source": [
    "evaluate_corpus_sentiment(vaccine_df, VADER_lexicon, ints=SO_CAL_int, negs=negatives, verbose=True)"
   ]
  },
  {
   "cell_type": "markdown",
   "metadata": {},
   "source": [
    "#### 3.b Calculate Travel Sentiment"
   ]
  },
  {
   "cell_type": "code",
   "execution_count": 71,
   "metadata": {},
   "outputs": [
    {
     "data": {
      "text/plain": [
       "('Overal sentiment score: 0.0102',\n",
       " \"Best comment: ('What about Canadians returning home who had left to take care of their parents for compassionate reasons. Taking care of non Canadians does not qualify as compassion ? Shouldn’t those Canadians be exempted as well as they did not travel for vacation?', (9.7, [('care', 2.2), ('compassionate', 2.2), ('care', 2.2), ('compassion', 2.0), ('well', 1.1)]))\",\n",
       " \"Worst comment: ('WHAT TYPE OF COVID TESTS ???? NOT ANTIGEN?????\\\\r\\\\nNOT ANTIGEN??? WHAT KIND OF COVID TESTS?????? VERY POORLY EXPLAINED!!!!!\\\\r\\\\n', (-10, [('????', -2), ('ANTIGEN?????', -2), ('ANTIGEN???', -2), ('TESTS??????', -2), ('EXPLAINED!!!!!', -2)]))\")"
      ]
     },
     "execution_count": 71,
     "metadata": {},
     "output_type": "execute_result"
    }
   ],
   "source": [
    "evaluate_corpus_sentiment(travel_df, VADER_lexicon, ints=SO_CAL_int, negs=negatives, verbose=True)"
   ]
  },
  {
   "cell_type": "markdown",
   "metadata": {},
   "source": [
    "### 4. Evaluating Sample Comments"
   ]
  },
  {
   "cell_type": "code",
   "execution_count": 72,
   "metadata": {},
   "outputs": [],
   "source": [
    "sample_comments = [\"I got my jab on March 29. Your literature says I need my 3rd shot within 3 weeks of my first as I was undergoing cancer treatment causing immunosuppression. I got my jab at St Mike's from which it was stated my 2nd shot is due July 16. Can you change this to April 19. HILDY Sinclair. 01/03/4\",\n",
    "                  \"How reliable the shipment is ?? Spending on vaccine is not the solution. Why Canada can not make vaccine ?? Aren't we a develop country ??? No technology at all !! Aren't this TRUDO GOVT. realize that Canada is to vulnerable when is come to safety ?? We need strong leadership. This guy NO GOOD\",\n",
    "                  \"Critical missing info: Fed Govt needs to make it mandatory that Ontario provide detailedinfo 1) Cumulative percent of adult population who have received at least one dose of a COVID-19 vaccine 2) Distribution by PH Unit geographic catchment 3) Naming of # distributed to each health care institution\",\n",
    "                  \"When coming from Portugal and the itinerary is Porto -frankfurt FRANKFURT - Toronto TORONTO - EDMONTON Being Toronto the first point of entry in CANADA, however not the final destination.. where is the hotel quarantine done?  Cannot be done in Toronto as there is a connecting flight to Edmonton.\",\n",
    "                  \"Pre-entry test requirements: You must show proof of your test results even if you recovered from COVID-19 and no longer test positive. limited number of exceptions Resolved COVID-19 infection - persons who have molecular test proof to show they had a positive COVID-19 test taken between 14-90 days\"]"
   ]
  },
  {
   "cell_type": "code",
   "execution_count": 73,
   "metadata": {},
   "outputs": [
    {
     "name": "stdout",
     "output_type": "stream",
     "text": [
      "I got my jab on March 29. Your literature says I need my 3rd shot within 3 weeks of my first as I was undergoing cancer treatment causing immunosuppression. I got my jab at St Mike's from which it was stated my 2nd shot is due July 16. Can you change this to April 19. HILDY Sinclair. 01/03/4\n",
      "(-3.4, [('cancer', -3.4)])\n",
      "How reliable the shipment is ?? Spending on vaccine is not the solution. Why Canada can not make vaccine ?? Aren't we a develop country ??? No technology at all !! Aren't this TRUDO GOVT. realize that Canada is to vulnerable when is come to safety ?? We need strong leadership. This guy NO GOOD\n",
      "(-6.8, [('??', -2), ('??', -2), ('???', -2), ('!!', -2), ('vulnerable', -0.9), ('safety', 1.8), ('??', -2), ('strong', 2.3)])\n",
      "Critical missing info: Fed Govt needs to make it mandatory that Ontario provide detailedinfo 1) Cumulative percent of adult population who have received at least one dose of a COVID-19 vaccine 2) Distribution by PH Unit geographic catchment 3) Naming of # distributed to each health care institution\n",
      "(1.3, [('missing', -1.2), ('mandatory', 0.3), ('care', 2.2)])\n",
      "When coming from Portugal and the itinerary is Porto -frankfurt FRANKFURT - Toronto TORONTO - EDMONTON Being Toronto the first point of entry in CANADA, however not the final destination.. where is the hotel quarantine done?  Cannot be done in Toronto as there is a connecting flight to Edmonton.\n",
      "(0, [])\n",
      "Pre-entry test requirements: You must show proof of your test results even if you recovered from COVID-19 and no longer test positive. limited number of exceptions Resolved COVID-19 infection - persons who have molecular test proof to show they had a positive COVID-19 test taken between 14-90 days\n",
      "(0.8, [('no', -1.2), ('limited', -0.9), ('number', 0.3), ('positive', 2.6)])\n"
     ]
    }
   ],
   "source": [
    "for comment in sample_comments:\n",
    "    print(comment)\n",
    "    print(calculate_SO(comment, VADER_lexicon, ints=SO_CAL_int, negs=negatives, verbose=True))"
   ]
  },
  {
   "cell_type": "markdown",
   "metadata": {},
   "source": [
    "### 5. Unsupervised Sentiment Analysis using K-Means\n",
    "Adapted from the [work](https://towardsdatascience.com/unsupervised-sentiment-analysis-a38bf1906483) of Rafał Wójcik"
   ]
  },
  {
   "cell_type": "code",
   "execution_count": 74,
   "metadata": {},
   "outputs": [],
   "source": [
    "import pandas as pd\n",
    "import numpy as np\n",
    "import re\n",
    "from re import sub\n",
    "import multiprocessing\n",
    "from unidecode import unidecode\n",
    "\n",
    "from gensim.models.phrases import Phrases, Phraser\n",
    "from gensim.models import Word2Vec\n",
    "from gensim.test.utils import get_tmpfile\n",
    "from gensim.models import KeyedVectors\n",
    "\n",
    "from sklearn.cluster import KMeans\n",
    "\n",
    "from time import time \n",
    "from collections import defaultdict"
   ]
  },
  {
   "cell_type": "markdown",
   "metadata": {},
   "source": [
    "#### 5.a. Preprocessing Data\n",
    "Clean the dataset"
   ]
  },
  {
   "cell_type": "code",
   "execution_count": 75,
   "metadata": {},
   "outputs": [],
   "source": [
    "def text_to_word_list(text):\n",
    "    ''' Pre process and convert texts to a list of words'''\n",
    "    text = str(text)\n",
    "    text = text.lower()\n",
    "\n",
    "    # Clean the text\n",
    "    text = sub(r\"[^A-Za-z0-9^,!?.\\/'+]\", \" \", text)\n",
    "    text = sub(r\"\\+\", \" plus \", text)\n",
    "    text = sub(r\",\", \" \", text)\n",
    "    text = sub(r\"\\.\", \" \", text)\n",
    "    text = sub(r\"!\", \" ! \", text)\n",
    "    text = sub(r\"\\?\", \" ? \", text)\n",
    "    text = sub(r\"'\", \" \", text)\n",
    "    text = sub(r\":\", \" : \", text)\n",
    "    text = sub(r\"\\s{2,}\", \" \", text)\n",
    "\n",
    "    text = text.split()\n",
    "\n",
    "    return text"
   ]
  },
  {
   "cell_type": "code",
   "execution_count": 76,
   "metadata": {},
   "outputs": [
    {
     "data": {
      "text/html": [
       "<div>\n",
       "<style scoped>\n",
       "    .dataframe tbody tr th:only-of-type {\n",
       "        vertical-align: middle;\n",
       "    }\n",
       "\n",
       "    .dataframe tbody tr th {\n",
       "        vertical-align: top;\n",
       "    }\n",
       "\n",
       "    .dataframe thead th {\n",
       "        text-align: right;\n",
       "    }\n",
       "</style>\n",
       "<table border=\"1\" class=\"dataframe\">\n",
       "  <thead>\n",
       "    <tr style=\"text-align: right;\">\n",
       "      <th></th>\n",
       "      <th>Comment</th>\n",
       "      <th>Tags</th>\n",
       "    </tr>\n",
       "  </thead>\n",
       "  <tbody>\n",
       "    <tr>\n",
       "      <th>0</th>\n",
       "      <td>i want to see how many of the current covid ca...</td>\n",
       "      <td>Data and tracking vaccines</td>\n",
       "    </tr>\n",
       "    <tr>\n",
       "      <th>2</th>\n",
       "      <td>i wanted to know the number of deaths</td>\n",
       "      <td>Data and tracking vaccines</td>\n",
       "    </tr>\n",
       "    <tr>\n",
       "      <th>3</th>\n",
       "      <td>are you hiding the deaths from vaccination ?</td>\n",
       "      <td>Data and tracking vaccines</td>\n",
       "    </tr>\n",
       "    <tr>\n",
       "      <th>4</th>\n",
       "      <td>how come there are so few reported deaths in t...</td>\n",
       "      <td>Data and tracking vaccines</td>\n",
       "    </tr>\n",
       "    <tr>\n",
       "      <th>5</th>\n",
       "      <td>each province should state total vaccinations ...</td>\n",
       "      <td>Data and tracking vaccines</td>\n",
       "    </tr>\n",
       "  </tbody>\n",
       "</table>\n",
       "</div>"
      ],
      "text/plain": [
       "                                             Comment  \\\n",
       "0  i want to see how many of the current covid ca...   \n",
       "2              i wanted to know the number of deaths   \n",
       "3       are you hiding the deaths from vaccination ?   \n",
       "4  how come there are so few reported deaths in t...   \n",
       "5  each province should state total vaccinations ...   \n",
       "\n",
       "                         Tags  \n",
       "0  Data and tracking vaccines  \n",
       "2  Data and tracking vaccines  \n",
       "3  Data and tracking vaccines  \n",
       "4  Data and tracking vaccines  \n",
       "5  Data and tracking vaccines  "
      ]
     },
     "execution_count": 76,
     "metadata": {},
     "output_type": "execute_result"
    }
   ],
   "source": [
    "vaccine_sentiment_df = vaccine_df.copy()\n",
    "vaccine_sentiment_df.Comment = vaccine_df.Comment.apply(lambda x: text_to_word_list(x))\n",
    "vaccine_sentiment_df.Comment = vaccine_sentiment_df.Comment.str.join(' ')\n",
    "vaccine_sentiment_df.head()"
   ]
  },
  {
   "cell_type": "markdown",
   "metadata": {},
   "source": [
    "#### 5.a. Separate English and French sentences using fasttext\n",
    "Before clustering, it is important to only use 1 language. Otherwise, the model will cluster based on the languages instead of sentiment."
   ]
  },
  {
   "cell_type": "code",
   "execution_count": 77,
   "metadata": {},
   "outputs": [
    {
     "name": "stderr",
     "output_type": "stream",
     "text": [
      "Warning : `load_model` does not return WordVectorModel or SupervisedModel any more, but a `FastText` object which is very similar.\n"
     ]
    }
   ],
   "source": [
    "import fasttext\n",
    "lid_model = fasttext.load_model(\"lid.176.bin\") ## download \"lid.176.bin\" from fasttext website"
   ]
  },
  {
   "cell_type": "code",
   "execution_count": 78,
   "metadata": {},
   "outputs": [],
   "source": [
    "def predict_en(comment):\n",
    "    '''predicts if a comment is English (0) or non-English (1)'''\n",
    "    prediction = lid_model.predict(comment)[0][0].split('_')[-1]\n",
    "    \n",
    "    if prediction == 'en':\n",
    "        return 0\n",
    "    else:\n",
    "        return 1"
   ]
  },
  {
   "cell_type": "code",
   "execution_count": 79,
   "metadata": {},
   "outputs": [
    {
     "data": {
      "text/html": [
       "<div>\n",
       "<style scoped>\n",
       "    .dataframe tbody tr th:only-of-type {\n",
       "        vertical-align: middle;\n",
       "    }\n",
       "\n",
       "    .dataframe tbody tr th {\n",
       "        vertical-align: top;\n",
       "    }\n",
       "\n",
       "    .dataframe thead th {\n",
       "        text-align: right;\n",
       "    }\n",
       "</style>\n",
       "<table border=\"1\" class=\"dataframe\">\n",
       "  <thead>\n",
       "    <tr style=\"text-align: right;\">\n",
       "      <th></th>\n",
       "      <th>Comment</th>\n",
       "      <th>Tags</th>\n",
       "      <th>Language</th>\n",
       "    </tr>\n",
       "  </thead>\n",
       "  <tbody>\n",
       "    <tr>\n",
       "      <th>0</th>\n",
       "      <td>i want to see how many of the current covid ca...</td>\n",
       "      <td>Data and tracking vaccines</td>\n",
       "      <td>0</td>\n",
       "    </tr>\n",
       "    <tr>\n",
       "      <th>2</th>\n",
       "      <td>i wanted to know the number of deaths</td>\n",
       "      <td>Data and tracking vaccines</td>\n",
       "      <td>0</td>\n",
       "    </tr>\n",
       "    <tr>\n",
       "      <th>3</th>\n",
       "      <td>are you hiding the deaths from vaccination ?</td>\n",
       "      <td>Data and tracking vaccines</td>\n",
       "      <td>0</td>\n",
       "    </tr>\n",
       "    <tr>\n",
       "      <th>4</th>\n",
       "      <td>how come there are so few reported deaths in t...</td>\n",
       "      <td>Data and tracking vaccines</td>\n",
       "      <td>0</td>\n",
       "    </tr>\n",
       "    <tr>\n",
       "      <th>5</th>\n",
       "      <td>each province should state total vaccinations ...</td>\n",
       "      <td>Data and tracking vaccines</td>\n",
       "      <td>0</td>\n",
       "    </tr>\n",
       "  </tbody>\n",
       "</table>\n",
       "</div>"
      ],
      "text/plain": [
       "                                             Comment  \\\n",
       "0  i want to see how many of the current covid ca...   \n",
       "2              i wanted to know the number of deaths   \n",
       "3       are you hiding the deaths from vaccination ?   \n",
       "4  how come there are so few reported deaths in t...   \n",
       "5  each province should state total vaccinations ...   \n",
       "\n",
       "                         Tags  Language  \n",
       "0  Data and tracking vaccines         0  \n",
       "2  Data and tracking vaccines         0  \n",
       "3  Data and tracking vaccines         0  \n",
       "4  Data and tracking vaccines         0  \n",
       "5  Data and tracking vaccines         0  "
      ]
     },
     "execution_count": 79,
     "metadata": {},
     "output_type": "execute_result"
    }
   ],
   "source": [
    "vaccine_sentiment_df['Language'] = vaccine_sentiment_df.Comment\n",
    "vaccine_sentiment_df.Language = vaccine_sentiment_df.Language.apply(lambda x: predict_en(x))\n",
    "vaccine_sentiment_df.head()"
   ]
  },
  {
   "cell_type": "code",
   "execution_count": 80,
   "metadata": {},
   "outputs": [],
   "source": [
    "en_vaccine = vaccine_sentiment_df[vaccine_sentiment_df[\"Language\"]==0][['Comment', 'Tags']]"
   ]
  },
  {
   "cell_type": "code",
   "execution_count": 81,
   "metadata": {},
   "outputs": [
    {
     "data": {
      "text/html": [
       "<div>\n",
       "<style scoped>\n",
       "    .dataframe tbody tr th:only-of-type {\n",
       "        vertical-align: middle;\n",
       "    }\n",
       "\n",
       "    .dataframe tbody tr th {\n",
       "        vertical-align: top;\n",
       "    }\n",
       "\n",
       "    .dataframe thead th {\n",
       "        text-align: right;\n",
       "    }\n",
       "</style>\n",
       "<table border=\"1\" class=\"dataframe\">\n",
       "  <thead>\n",
       "    <tr style=\"text-align: right;\">\n",
       "      <th></th>\n",
       "      <th>Comment</th>\n",
       "      <th>Tags</th>\n",
       "    </tr>\n",
       "  </thead>\n",
       "  <tbody>\n",
       "    <tr>\n",
       "      <th>0</th>\n",
       "      <td>[i, want, to, see, how, many, of, the, current...</td>\n",
       "      <td>Data and tracking vaccines</td>\n",
       "    </tr>\n",
       "    <tr>\n",
       "      <th>2</th>\n",
       "      <td>[i, wanted, to, know, the, number, of, deaths]</td>\n",
       "      <td>Data and tracking vaccines</td>\n",
       "    </tr>\n",
       "    <tr>\n",
       "      <th>3</th>\n",
       "      <td>[are, you, hiding, the, deaths, from, vaccinat...</td>\n",
       "      <td>Data and tracking vaccines</td>\n",
       "    </tr>\n",
       "    <tr>\n",
       "      <th>4</th>\n",
       "      <td>[how, come, there, are, so, few, reported, dea...</td>\n",
       "      <td>Data and tracking vaccines</td>\n",
       "    </tr>\n",
       "    <tr>\n",
       "      <th>5</th>\n",
       "      <td>[each, province, should, state, total, vaccina...</td>\n",
       "      <td>Data and tracking vaccines</td>\n",
       "    </tr>\n",
       "  </tbody>\n",
       "</table>\n",
       "</div>"
      ],
      "text/plain": [
       "                                             Comment  \\\n",
       "0  [i, want, to, see, how, many, of, the, current...   \n",
       "2     [i, wanted, to, know, the, number, of, deaths]   \n",
       "3  [are, you, hiding, the, deaths, from, vaccinat...   \n",
       "4  [how, come, there, are, so, few, reported, dea...   \n",
       "5  [each, province, should, state, total, vaccina...   \n",
       "\n",
       "                         Tags  \n",
       "0  Data and tracking vaccines  \n",
       "2  Data and tracking vaccines  \n",
       "3  Data and tracking vaccines  \n",
       "4  Data and tracking vaccines  \n",
       "5  Data and tracking vaccines  "
      ]
     },
     "execution_count": 81,
     "metadata": {},
     "output_type": "execute_result"
    }
   ],
   "source": [
    "en_vaccine.Comment = en_vaccine.Comment.str.split()\n",
    "en_vaccine.head()"
   ]
  },
  {
   "cell_type": "code",
   "execution_count": 93,
   "metadata": {},
   "outputs": [
    {
     "name": "stdout",
     "output_type": "stream",
     "text": [
      "No. rows before: 17937\n",
      "No. rows after: 17858\n"
     ]
    }
   ],
   "source": [
    "## saving the cleaned data\n",
    "vaccine_model = en_vaccine.copy()\n",
    "\n",
    "## only keep comments with more than 1 word\n",
    "vaccine_model['word_count'] = vaccine_model.Comment.apply(lambda x: len(set(x)))\n",
    "vaccine_model = vaccine_model[vaccine_model.word_count > 1][['Comment', \"Tags\"]]\n",
    "print(f\"No. rows before: {len(en_vaccine)}\")\n",
    "print(f\"No. rows after: {len(vaccine_model)}\")"
   ]
  },
  {
   "cell_type": "code",
   "execution_count": 100,
   "metadata": {},
   "outputs": [
    {
     "data": {
      "text/plain": [
       "['are', 'you_hiding', 'the', 'deaths_from', 'vaccination', '?']"
      ]
     },
     "execution_count": 100,
     "metadata": {},
     "output_type": "execute_result"
    }
   ],
   "source": [
    "sent = [row for row in vaccine_model.Comment]\n",
    "phrases = Phrases(sent, min_count=1, progress_per=50000)\n",
    "bigram = Phraser(phrases)\n",
    "sentences = bigram[sent]\n",
    "sentences[2]"
   ]
  },
  {
   "cell_type": "code",
   "execution_count": 101,
   "metadata": {},
   "outputs": [],
   "source": [
    "file_export = vaccine_model.copy()\n",
    "file_export['old_Comment'] = file_export.Comment\n",
    "file_export.old_Comment = file_export.old_Comment.str.join(' ')\n",
    "file_export.Comment = file_export.Comment.apply(lambda x: ' '.join(bigram[x]))"
   ]
  },
  {
   "cell_type": "code",
   "execution_count": 102,
   "metadata": {},
   "outputs": [
    {
     "data": {
      "text/html": [
       "<div>\n",
       "<style scoped>\n",
       "    .dataframe tbody tr th:only-of-type {\n",
       "        vertical-align: middle;\n",
       "    }\n",
       "\n",
       "    .dataframe tbody tr th {\n",
       "        vertical-align: top;\n",
       "    }\n",
       "\n",
       "    .dataframe thead th {\n",
       "        text-align: right;\n",
       "    }\n",
       "</style>\n",
       "<table border=\"1\" class=\"dataframe\">\n",
       "  <thead>\n",
       "    <tr style=\"text-align: right;\">\n",
       "      <th></th>\n",
       "      <th>Comment</th>\n",
       "      <th>Tags</th>\n",
       "      <th>old_Comment</th>\n",
       "    </tr>\n",
       "  </thead>\n",
       "  <tbody>\n",
       "    <tr>\n",
       "      <th>0</th>\n",
       "      <td>i want to see how_many of the current covid ca...</td>\n",
       "      <td>Data and tracking vaccines</td>\n",
       "      <td>i want to see how many of the current covid ca...</td>\n",
       "    </tr>\n",
       "    <tr>\n",
       "      <th>2</th>\n",
       "      <td>i wanted to know the number of deaths</td>\n",
       "      <td>Data and tracking vaccines</td>\n",
       "      <td>i wanted to know the number of deaths</td>\n",
       "    </tr>\n",
       "    <tr>\n",
       "      <th>3</th>\n",
       "      <td>are you_hiding the deaths_from vaccination ?</td>\n",
       "      <td>Data and tracking vaccines</td>\n",
       "      <td>are you hiding the deaths from vaccination ?</td>\n",
       "    </tr>\n",
       "    <tr>\n",
       "      <th>4</th>\n",
       "      <td>how come there are so few reported deaths in t...</td>\n",
       "      <td>Data and tracking vaccines</td>\n",
       "      <td>how come there are so few reported deaths in t...</td>\n",
       "    </tr>\n",
       "    <tr>\n",
       "      <th>5</th>\n",
       "      <td>each_province should state total vaccinations ...</td>\n",
       "      <td>Data and tracking vaccines</td>\n",
       "      <td>each province should state total vaccinations ...</td>\n",
       "    </tr>\n",
       "  </tbody>\n",
       "</table>\n",
       "</div>"
      ],
      "text/plain": [
       "                                             Comment  \\\n",
       "0  i want to see how_many of the current covid ca...   \n",
       "2              i wanted to know the number of deaths   \n",
       "3       are you_hiding the deaths_from vaccination ?   \n",
       "4  how come there are so few reported deaths in t...   \n",
       "5  each_province should state total vaccinations ...   \n",
       "\n",
       "                         Tags  \\\n",
       "0  Data and tracking vaccines   \n",
       "2  Data and tracking vaccines   \n",
       "3  Data and tracking vaccines   \n",
       "4  Data and tracking vaccines   \n",
       "5  Data and tracking vaccines   \n",
       "\n",
       "                                         old_Comment  \n",
       "0  i want to see how many of the current covid ca...  \n",
       "2              i wanted to know the number of deaths  \n",
       "3       are you hiding the deaths from vaccination ?  \n",
       "4  how come there are so few reported deaths in t...  \n",
       "5  each province should state total vaccinations ...  "
      ]
     },
     "execution_count": 102,
     "metadata": {},
     "output_type": "execute_result"
    }
   ],
   "source": [
    "file_export.head()"
   ]
  },
  {
   "cell_type": "code",
   "execution_count": 103,
   "metadata": {},
   "outputs": [],
   "source": [
    "file_export.to_csv('en_vaccine_sentiment_df', index=False)"
   ]
  },
  {
   "cell_type": "code",
   "execution_count": 104,
   "metadata": {},
   "outputs": [
    {
     "name": "stdout",
     "output_type": "stream",
     "text": [
      "Wall time: 1.65 s\n"
     ]
    }
   ],
   "source": [
    "%%time\n",
    "\n",
    "w2v_model = Word2Vec(min_count=3,\n",
    "                     window=4,\n",
    "                     size=300,\n",
    "                     sample=1e-5, \n",
    "                     alpha=0.03, \n",
    "                     min_alpha=0.0007, \n",
    "                     negative=20,\n",
    "                     workers=multiprocessing.cpu_count()-1)\n",
    "\n",
    "\n",
    "w2v_model.build_vocab(sentences, progress_per=50000)"
   ]
  },
  {
   "cell_type": "code",
   "execution_count": 105,
   "metadata": {},
   "outputs": [
    {
     "name": "stdout",
     "output_type": "stream",
     "text": [
      "Wall time: 19.9 s\n"
     ]
    },
    {
     "data": {
      "text/plain": [
       "(1198648, 7629390)"
      ]
     },
     "execution_count": 105,
     "metadata": {},
     "output_type": "execute_result"
    }
   ],
   "source": [
    "%%time\n",
    "w2v_model.train(sentences, total_examples=w2v_model.corpus_count, epochs=30, report_delay=1)"
   ]
  },
  {
   "cell_type": "code",
   "execution_count": 106,
   "metadata": {},
   "outputs": [],
   "source": [
    "w2v_model.init_sims(replace=True)"
   ]
  },
  {
   "cell_type": "code",
   "execution_count": 107,
   "metadata": {},
   "outputs": [],
   "source": [
    "w2v_model.save(\"word2vec.model\")"
   ]
  },
  {
   "cell_type": "markdown",
   "metadata": {},
   "source": [
    "#### 5.b. K-Means Clustering for Sentiment Analysis"
   ]
  },
  {
   "cell_type": "code",
   "execution_count": 108,
   "metadata": {},
   "outputs": [],
   "source": [
    "word_vectors = Word2Vec.load(\"word2vec.model\").wv"
   ]
  },
  {
   "cell_type": "code",
   "execution_count": 109,
   "metadata": {},
   "outputs": [],
   "source": [
    "model = KMeans(n_clusters=2, max_iter=1000, random_state=True, n_init=50).fit(X=word_vectors.vectors.astype('double'))"
   ]
  },
  {
   "cell_type": "code",
   "execution_count": 110,
   "metadata": {},
   "outputs": [
    {
     "data": {
      "text/plain": [
       "[('frequency', 0.9999629259109497),\n",
       " ('yellow', 0.9999617338180542),\n",
       " ('shameful', 0.9999614357948303),\n",
       " ('reading_this', 0.9999614357948303),\n",
       " ('misleading', 0.9999610185623169),\n",
       " ('cancer_patients', 0.9999610185623169),\n",
       " ('iodine', 0.9999609589576721),\n",
       " ('office', 0.9999609589576721),\n",
       " ('station', 0.9999607801437378),\n",
       " ('never', 0.9999602437019348)]"
      ]
     },
     "execution_count": 110,
     "metadata": {},
     "output_type": "execute_result"
    }
   ],
   "source": [
    "word_vectors.similar_by_vector(model.cluster_centers_[1], topn=10, restrict_vocab=None)"
   ]
  },
  {
   "cell_type": "code",
   "execution_count": 111,
   "metadata": {},
   "outputs": [],
   "source": [
    "positive_cluster_index = 1\n",
    "positive_cluster_center = model.cluster_centers_[positive_cluster_index]\n",
    "negative_cluster_center = model.cluster_centers_[1-positive_cluster_index]"
   ]
  },
  {
   "cell_type": "code",
   "execution_count": 112,
   "metadata": {},
   "outputs": [],
   "source": [
    "words = pd.DataFrame(word_vectors.vocab.keys())\n",
    "words.columns = ['words']\n",
    "words['vectors'] = words.words.apply(lambda x: word_vectors[f'{x}'])\n",
    "words['cluster'] = words.vectors.apply(lambda x: model.predict([np.array(x)]))\n",
    "words.cluster = words.cluster.apply(lambda x: x[0])"
   ]
  },
  {
   "cell_type": "code",
   "execution_count": 113,
   "metadata": {},
   "outputs": [],
   "source": [
    "words['cluster_value'] = [1 if i==positive_cluster_index else -1 for i in words.cluster]\n",
    "words['closeness_score'] = words.apply(lambda x: 1/(model.transform([x.vectors]).min()), axis=1)\n",
    "words['sentiment_coeff'] = words.closeness_score * words.cluster_value"
   ]
  },
  {
   "cell_type": "code",
   "execution_count": 137,
   "metadata": {},
   "outputs": [
    {
     "data": {
      "text/html": [
       "<div>\n",
       "<style scoped>\n",
       "    .dataframe tbody tr th:only-of-type {\n",
       "        vertical-align: middle;\n",
       "    }\n",
       "\n",
       "    .dataframe tbody tr th {\n",
       "        vertical-align: top;\n",
       "    }\n",
       "\n",
       "    .dataframe thead th {\n",
       "        text-align: right;\n",
       "    }\n",
       "</style>\n",
       "<table border=\"1\" class=\"dataframe\">\n",
       "  <thead>\n",
       "    <tr style=\"text-align: right;\">\n",
       "      <th></th>\n",
       "      <th>words</th>\n",
       "      <th>sentiment_coeff</th>\n",
       "    </tr>\n",
       "  </thead>\n",
       "  <tbody>\n",
       "    <tr>\n",
       "      <th>5029</th>\n",
       "      <td>yellow</td>\n",
       "      <td>-114.628417</td>\n",
       "    </tr>\n",
       "    <tr>\n",
       "      <th>3539</th>\n",
       "      <td>station</td>\n",
       "      <td>-114.440245</td>\n",
       "    </tr>\n",
       "    <tr>\n",
       "      <th>4284</th>\n",
       "      <td>1962</td>\n",
       "      <td>-114.267294</td>\n",
       "    </tr>\n",
       "    <tr>\n",
       "      <th>3365</th>\n",
       "      <td>cancer_patients</td>\n",
       "      <td>-114.047520</td>\n",
       "    </tr>\n",
       "    <tr>\n",
       "      <th>3196</th>\n",
       "      <td>office</td>\n",
       "      <td>-113.564575</td>\n",
       "    </tr>\n",
       "    <tr>\n",
       "      <th>4131</th>\n",
       "      <td>england</td>\n",
       "      <td>-113.355924</td>\n",
       "    </tr>\n",
       "    <tr>\n",
       "      <th>3852</th>\n",
       "      <td>79_yrs</td>\n",
       "      <td>-112.627754</td>\n",
       "    </tr>\n",
       "    <tr>\n",
       "      <th>3934</th>\n",
       "      <td>middle</td>\n",
       "      <td>-112.481609</td>\n",
       "    </tr>\n",
       "    <tr>\n",
       "      <th>5114</th>\n",
       "      <td>no_evidence</td>\n",
       "      <td>-112.150265</td>\n",
       "    </tr>\n",
       "    <tr>\n",
       "      <th>3715</th>\n",
       "      <td>assistance</td>\n",
       "      <td>-112.028285</td>\n",
       "    </tr>\n",
       "    <tr>\n",
       "      <th>1097</th>\n",
       "      <td>best</td>\n",
       "      <td>-111.911224</td>\n",
       "    </tr>\n",
       "    <tr>\n",
       "      <th>2561</th>\n",
       "      <td>who_gets</td>\n",
       "      <td>-111.762124</td>\n",
       "    </tr>\n",
       "    <tr>\n",
       "      <th>4029</th>\n",
       "      <td>77</td>\n",
       "      <td>-111.748650</td>\n",
       "    </tr>\n",
       "    <tr>\n",
       "      <th>4912</th>\n",
       "      <td>pcr</td>\n",
       "      <td>-111.453449</td>\n",
       "    </tr>\n",
       "    <tr>\n",
       "      <th>2650</th>\n",
       "      <td>8_weeks</td>\n",
       "      <td>-111.024875</td>\n",
       "    </tr>\n",
       "    <tr>\n",
       "      <th>427</th>\n",
       "      <td>thanks</td>\n",
       "      <td>-110.969752</td>\n",
       "    </tr>\n",
       "    <tr>\n",
       "      <th>5166</th>\n",
       "      <td>propaganda_!</td>\n",
       "      <td>-110.586093</td>\n",
       "    </tr>\n",
       "    <tr>\n",
       "      <th>4747</th>\n",
       "      <td>wearing</td>\n",
       "      <td>-110.405807</td>\n",
       "    </tr>\n",
       "    <tr>\n",
       "      <th>3939</th>\n",
       "      <td>32</td>\n",
       "      <td>-110.351599</td>\n",
       "    </tr>\n",
       "    <tr>\n",
       "      <th>4806</th>\n",
       "      <td>14_day</td>\n",
       "      <td>-110.258612</td>\n",
       "    </tr>\n",
       "  </tbody>\n",
       "</table>\n",
       "</div>"
      ],
      "text/plain": [
       "                words  sentiment_coeff\n",
       "5029           yellow      -114.628417\n",
       "3539          station      -114.440245\n",
       "4284             1962      -114.267294\n",
       "3365  cancer_patients      -114.047520\n",
       "3196           office      -113.564575\n",
       "4131          england      -113.355924\n",
       "3852           79_yrs      -112.627754\n",
       "3934           middle      -112.481609\n",
       "5114      no_evidence      -112.150265\n",
       "3715       assistance      -112.028285\n",
       "1097             best      -111.911224\n",
       "2561         who_gets      -111.762124\n",
       "4029               77      -111.748650\n",
       "4912              pcr      -111.453449\n",
       "2650          8_weeks      -111.024875\n",
       "427            thanks      -110.969752\n",
       "5166     propaganda_!      -110.586093\n",
       "4747          wearing      -110.405807\n",
       "3939               32      -110.351599\n",
       "4806           14_day      -110.258612"
      ]
     },
     "execution_count": 137,
     "metadata": {},
     "output_type": "execute_result"
    }
   ],
   "source": [
    "words[['words', 'sentiment_coeff']].sort_values(by='sentiment_coeff').head(20)"
   ]
  },
  {
   "cell_type": "code",
   "execution_count": 138,
   "metadata": {},
   "outputs": [
    {
     "data": {
      "text/html": [
       "<div>\n",
       "<style scoped>\n",
       "    .dataframe tbody tr th:only-of-type {\n",
       "        vertical-align: middle;\n",
       "    }\n",
       "\n",
       "    .dataframe tbody tr th {\n",
       "        vertical-align: top;\n",
       "    }\n",
       "\n",
       "    .dataframe thead th {\n",
       "        text-align: right;\n",
       "    }\n",
       "</style>\n",
       "<table border=\"1\" class=\"dataframe\">\n",
       "  <thead>\n",
       "    <tr style=\"text-align: right;\">\n",
       "      <th></th>\n",
       "      <th>words</th>\n",
       "      <th>sentiment_coeff</th>\n",
       "    </tr>\n",
       "  </thead>\n",
       "  <tbody>\n",
       "    <tr>\n",
       "      <th>2587</th>\n",
       "      <td>limit</td>\n",
       "      <td>110.875543</td>\n",
       "    </tr>\n",
       "    <tr>\n",
       "      <th>726</th>\n",
       "      <td>there_any</td>\n",
       "      <td>110.912796</td>\n",
       "    </tr>\n",
       "    <tr>\n",
       "      <th>1644</th>\n",
       "      <td>drug_company</td>\n",
       "      <td>110.966909</td>\n",
       "    </tr>\n",
       "    <tr>\n",
       "      <th>2187</th>\n",
       "      <td>march_29th</td>\n",
       "      <td>110.975214</td>\n",
       "    </tr>\n",
       "    <tr>\n",
       "      <th>529</th>\n",
       "      <td>look</td>\n",
       "      <td>110.980348</td>\n",
       "    </tr>\n",
       "    <tr>\n",
       "      <th>5010</th>\n",
       "      <td>diagnosed</td>\n",
       "      <td>111.126386</td>\n",
       "    </tr>\n",
       "    <tr>\n",
       "      <th>5001</th>\n",
       "      <td>vitamin_d</td>\n",
       "      <td>111.144311</td>\n",
       "    </tr>\n",
       "    <tr>\n",
       "      <th>4421</th>\n",
       "      <td>deadline</td>\n",
       "      <td>111.159040</td>\n",
       "    </tr>\n",
       "    <tr>\n",
       "      <th>2113</th>\n",
       "      <td>message</td>\n",
       "      <td>111.171487</td>\n",
       "    </tr>\n",
       "    <tr>\n",
       "      <th>4911</th>\n",
       "      <td>taste</td>\n",
       "      <td>111.451421</td>\n",
       "    </tr>\n",
       "    <tr>\n",
       "      <th>4268</th>\n",
       "      <td>stents</td>\n",
       "      <td>111.552778</td>\n",
       "    </tr>\n",
       "    <tr>\n",
       "      <th>1273</th>\n",
       "      <td>issue</td>\n",
       "      <td>111.680024</td>\n",
       "    </tr>\n",
       "    <tr>\n",
       "      <th>1969</th>\n",
       "      <td>aid</td>\n",
       "      <td>111.771485</td>\n",
       "    </tr>\n",
       "    <tr>\n",
       "      <th>4609</th>\n",
       "      <td>provide_protection</td>\n",
       "      <td>111.922273</td>\n",
       "    </tr>\n",
       "    <tr>\n",
       "      <th>1319</th>\n",
       "      <td>never</td>\n",
       "      <td>112.058324</td>\n",
       "    </tr>\n",
       "    <tr>\n",
       "      <th>5083</th>\n",
       "      <td>iodine</td>\n",
       "      <td>113.165899</td>\n",
       "    </tr>\n",
       "    <tr>\n",
       "      <th>1639</th>\n",
       "      <td>misleading</td>\n",
       "      <td>113.194309</td>\n",
       "    </tr>\n",
       "    <tr>\n",
       "      <th>2497</th>\n",
       "      <td>shameful</td>\n",
       "      <td>113.849229</td>\n",
       "    </tr>\n",
       "    <tr>\n",
       "      <th>5153</th>\n",
       "      <td>reading_this</td>\n",
       "      <td>113.884065</td>\n",
       "    </tr>\n",
       "    <tr>\n",
       "      <th>130</th>\n",
       "      <td>frequency</td>\n",
       "      <td>116.091749</td>\n",
       "    </tr>\n",
       "  </tbody>\n",
       "</table>\n",
       "</div>"
      ],
      "text/plain": [
       "                   words  sentiment_coeff\n",
       "2587               limit       110.875543\n",
       "726            there_any       110.912796\n",
       "1644        drug_company       110.966909\n",
       "2187          march_29th       110.975214\n",
       "529                 look       110.980348\n",
       "5010           diagnosed       111.126386\n",
       "5001           vitamin_d       111.144311\n",
       "4421            deadline       111.159040\n",
       "2113             message       111.171487\n",
       "4911               taste       111.451421\n",
       "4268              stents       111.552778\n",
       "1273               issue       111.680024\n",
       "1969                 aid       111.771485\n",
       "4609  provide_protection       111.922273\n",
       "1319               never       112.058324\n",
       "5083              iodine       113.165899\n",
       "1639          misleading       113.194309\n",
       "2497            shameful       113.849229\n",
       "5153        reading_this       113.884065\n",
       "130            frequency       116.091749"
      ]
     },
     "execution_count": 138,
     "metadata": {},
     "output_type": "execute_result"
    }
   ],
   "source": [
    "words[['words', 'sentiment_coeff']].sort_values(by='sentiment_coeff').tail(20)"
   ]
  },
  {
   "cell_type": "code",
   "execution_count": 115,
   "metadata": {},
   "outputs": [],
   "source": [
    "words[['words', 'sentiment_coeff']].to_csv('sentiment_dictionary.csv', index=False)"
   ]
  },
  {
   "cell_type": "code",
   "execution_count": 116,
   "metadata": {},
   "outputs": [],
   "source": [
    "from sklearn.feature_extraction.text import TfidfVectorizer\n",
    "from sklearn.metrics import accuracy_score, confusion_matrix, precision_score, recall_score, f1_score\n",
    "from IPython.display import display"
   ]
  },
  {
   "cell_type": "code",
   "execution_count": 117,
   "metadata": {},
   "outputs": [],
   "source": [
    "final_vaccine_df = pd.read_csv('en_vaccine_sentiment_df')"
   ]
  },
  {
   "cell_type": "code",
   "execution_count": 118,
   "metadata": {},
   "outputs": [],
   "source": [
    "sentiment_map = pd.read_csv('sentiment_dictionary.csv')\n",
    "sentiment_dict = dict(zip(sentiment_map.words.values, sentiment_map.sentiment_coeff.values))"
   ]
  },
  {
   "cell_type": "code",
   "execution_count": 119,
   "metadata": {},
   "outputs": [],
   "source": [
    "file_weighting = final_vaccine_df.copy()"
   ]
  },
  {
   "cell_type": "code",
   "execution_count": 120,
   "metadata": {},
   "outputs": [
    {
     "name": "stderr",
     "output_type": "stream",
     "text": [
      "C:\\Users\\Jan\\miniconda3\\lib\\site-packages\\sklearn\\feature_extraction\\text.py:484: UserWarning: The parameter 'token_pattern' will not be used since 'tokenizer' is not None'\n",
      "  warnings.warn(\"The parameter 'token_pattern' will not be used\"\n"
     ]
    }
   ],
   "source": [
    "tfidf = TfidfVectorizer(tokenizer=lambda y: y.split(), norm=None)\n",
    "tfidf.fit(file_weighting.Comment)\n",
    "features = pd.Series(tfidf.get_feature_names())\n",
    "transformed = tfidf.transform(file_weighting.Comment)"
   ]
  },
  {
   "cell_type": "code",
   "execution_count": 143,
   "metadata": {},
   "outputs": [
    {
     "data": {
      "text/html": [
       "<div>\n",
       "<style scoped>\n",
       "    .dataframe tbody tr th:only-of-type {\n",
       "        vertical-align: middle;\n",
       "    }\n",
       "\n",
       "    .dataframe tbody tr th {\n",
       "        vertical-align: top;\n",
       "    }\n",
       "\n",
       "    .dataframe thead th {\n",
       "        text-align: right;\n",
       "    }\n",
       "</style>\n",
       "<table border=\"1\" class=\"dataframe\">\n",
       "  <thead>\n",
       "    <tr style=\"text-align: right;\">\n",
       "      <th></th>\n",
       "      <th>Comment</th>\n",
       "      <th>Tags</th>\n",
       "      <th>old_Comment</th>\n",
       "    </tr>\n",
       "  </thead>\n",
       "  <tbody>\n",
       "    <tr>\n",
       "      <th>0</th>\n",
       "      <td>i want to see how_many of the current covid ca...</td>\n",
       "      <td>Data and tracking vaccines</td>\n",
       "      <td>i want to see how many of the current covid ca...</td>\n",
       "    </tr>\n",
       "    <tr>\n",
       "      <th>1</th>\n",
       "      <td>i wanted to know the number of deaths</td>\n",
       "      <td>Data and tracking vaccines</td>\n",
       "      <td>i wanted to know the number of deaths</td>\n",
       "    </tr>\n",
       "    <tr>\n",
       "      <th>2</th>\n",
       "      <td>are you_hiding the deaths_from vaccination ?</td>\n",
       "      <td>Data and tracking vaccines</td>\n",
       "      <td>are you hiding the deaths from vaccination ?</td>\n",
       "    </tr>\n",
       "    <tr>\n",
       "      <th>3</th>\n",
       "      <td>how come there are so few reported deaths in t...</td>\n",
       "      <td>Data and tracking vaccines</td>\n",
       "      <td>how come there are so few reported deaths in t...</td>\n",
       "    </tr>\n",
       "    <tr>\n",
       "      <th>4</th>\n",
       "      <td>each_province should state total vaccinations ...</td>\n",
       "      <td>Data and tracking vaccines</td>\n",
       "      <td>each province should state total vaccinations ...</td>\n",
       "    </tr>\n",
       "    <tr>\n",
       "      <th>...</th>\n",
       "      <td>...</td>\n",
       "      <td>...</td>\n",
       "      <td>...</td>\n",
       "    </tr>\n",
       "    <tr>\n",
       "      <th>17853</th>\n",
       "      <td>where is the update for jan 28th ?</td>\n",
       "      <td>Vaccines - Other</td>\n",
       "      <td>where is the update for jan 28th ?</td>\n",
       "    </tr>\n",
       "    <tr>\n",
       "      <th>17854</th>\n",
       "      <td>poster to help educate lay coworkers who are v...</td>\n",
       "      <td>Vaccines - Other</td>\n",
       "      <td>poster to help educate lay coworkers who are v...</td>\n",
       "    </tr>\n",
       "    <tr>\n",
       "      <th>17855</th>\n",
       "      <td>not updated</td>\n",
       "      <td>Vaccines - Other</td>\n",
       "      <td>not updated</td>\n",
       "    </tr>\n",
       "    <tr>\n",
       "      <th>17856</th>\n",
       "      <td>are the vaccine bottles used again</td>\n",
       "      <td>Vaccines - Other</td>\n",
       "      <td>are the vaccine bottles used again</td>\n",
       "    </tr>\n",
       "    <tr>\n",
       "      <th>17857</th>\n",
       "      <td>is this vaccine traceable or detectable ?</td>\n",
       "      <td>Vaccines - Other</td>\n",
       "      <td>is this vaccine traceable or detectable ?</td>\n",
       "    </tr>\n",
       "  </tbody>\n",
       "</table>\n",
       "<p>17858 rows × 3 columns</p>\n",
       "</div>"
      ],
      "text/plain": [
       "                                                 Comment  \\\n",
       "0      i want to see how_many of the current covid ca...   \n",
       "1                  i wanted to know the number of deaths   \n",
       "2           are you_hiding the deaths_from vaccination ?   \n",
       "3      how come there are so few reported deaths in t...   \n",
       "4      each_province should state total vaccinations ...   \n",
       "...                                                  ...   \n",
       "17853                 where is the update for jan 28th ?   \n",
       "17854  poster to help educate lay coworkers who are v...   \n",
       "17855                                        not updated   \n",
       "17856                 are the vaccine bottles used again   \n",
       "17857          is this vaccine traceable or detectable ?   \n",
       "\n",
       "                             Tags  \\\n",
       "0      Data and tracking vaccines   \n",
       "1      Data and tracking vaccines   \n",
       "2      Data and tracking vaccines   \n",
       "3      Data and tracking vaccines   \n",
       "4      Data and tracking vaccines   \n",
       "...                           ...   \n",
       "17853            Vaccines - Other   \n",
       "17854            Vaccines - Other   \n",
       "17855            Vaccines - Other   \n",
       "17856            Vaccines - Other   \n",
       "17857            Vaccines - Other   \n",
       "\n",
       "                                             old_Comment  \n",
       "0      i want to see how many of the current covid ca...  \n",
       "1                  i wanted to know the number of deaths  \n",
       "2           are you hiding the deaths from vaccination ?  \n",
       "3      how come there are so few reported deaths in t...  \n",
       "4      each province should state total vaccinations ...  \n",
       "...                                                  ...  \n",
       "17853                 where is the update for jan 28th ?  \n",
       "17854  poster to help educate lay coworkers who are v...  \n",
       "17855                                        not updated  \n",
       "17856                 are the vaccine bottles used again  \n",
       "17857          is this vaccine traceable or detectable ?  \n",
       "\n",
       "[17858 rows x 3 columns]"
      ]
     },
     "execution_count": 143,
     "metadata": {},
     "output_type": "execute_result"
    }
   ],
   "source": [
    "file_weighting"
   ]
  },
  {
   "cell_type": "code",
   "execution_count": 121,
   "metadata": {},
   "outputs": [],
   "source": [
    "def create_tfidf_dictionary(x, transformed_file, features):\n",
    "    '''\n",
    "    create dictionary for each input sentence x, where each word has assigned its tfidf score\n",
    "    \n",
    "    inspired  by function from: \n",
    "    https://medium.com/analytics-vidhya/automated-keyword-extraction-from-articles-using-nlp-bfd864f41b34\n",
    "    \n",
    "    x - row of dataframe, containing sentences, and their indexes,\n",
    "    transformed_file - all sentences transformed with TfidfVectorizer\n",
    "    features - names of all words in corpus used in TfidfVectorizer\n",
    "\n",
    "    '''\n",
    "    vector_coo = transformed_file[x.name].tocoo()\n",
    "    vector_coo.col = features.iloc[vector_coo.col].values\n",
    "    dict_from_coo = dict(zip(vector_coo.col, vector_coo.data))\n",
    "    return dict_from_coo\n",
    "\n",
    "def replace_tfidf_words(x, transformed_file, features):\n",
    "    '''\n",
    "    replacing each word with it's calculated tfidf dictionary with scores of each word\n",
    "    x - row of dataframe, containing sentences, and their indexes,\n",
    "    transformed_file - all sentences transformed with TfidfVectorizer\n",
    "    features - names of all words in corpus used in TfidfVectorizer\n",
    "    '''\n",
    "    dictionary = create_tfidf_dictionary(x, transformed_file, features)   \n",
    "    return list(map(lambda y:dictionary[f'{y}'], x.Comment.split()))"
   ]
  },
  {
   "cell_type": "code",
   "execution_count": 122,
   "metadata": {},
   "outputs": [
    {
     "name": "stdout",
     "output_type": "stream",
     "text": [
      "Wall time: 3.71 s\n"
     ]
    }
   ],
   "source": [
    "%%time\n",
    "replaced_tfidf_scores = file_weighting.apply(lambda x: replace_tfidf_words(x, transformed, features), axis=1)#this step takes around 3-4 minutes minutes to calculate"
   ]
  },
  {
   "cell_type": "code",
   "execution_count": 123,
   "metadata": {},
   "outputs": [],
   "source": [
    "def replace_sentiment_words(word, sentiment_dict):\n",
    "    '''\n",
    "    replacing each word with its associated sentiment score from sentiment dict\n",
    "    '''\n",
    "    try:\n",
    "        out = sentiment_dict[word]\n",
    "    except KeyError:\n",
    "        out = 0\n",
    "    return out"
   ]
  },
  {
   "cell_type": "code",
   "execution_count": 124,
   "metadata": {},
   "outputs": [],
   "source": [
    "replaced_closeness_scores = file_weighting.Comment.apply(lambda x: list(map(lambda y: replace_sentiment_words(y, sentiment_dict), x.split())))"
   ]
  },
  {
   "cell_type": "code",
   "execution_count": 125,
   "metadata": {},
   "outputs": [],
   "source": [
    "replacement_df = pd.DataFrame(data=[replaced_closeness_scores, replaced_tfidf_scores, file_weighting.Comment, file_weighting.Tags]).T\n",
    "replacement_df.columns = ['sentiment_coeff', 'tfidf_scores', 'sentence', 'sentiment']\n",
    "replacement_df['sentiment_rate'] = replacement_df.apply(lambda x: np.array(x.loc['sentiment_coeff']) @ np.array(x.loc['tfidf_scores']), axis=1)\n",
    "replacement_df['prediction'] = (replacement_df.sentiment_rate>0).astype('int8')\n",
    "replacement_df['sentiment'] = [1 if i==1 else 0 for i in replacement_df.sentiment]"
   ]
  },
  {
   "cell_type": "code",
   "execution_count": 126,
   "metadata": {},
   "outputs": [
    {
     "data": {
      "text/html": [
       "<div>\n",
       "<style scoped>\n",
       "    .dataframe tbody tr th:only-of-type {\n",
       "        vertical-align: middle;\n",
       "    }\n",
       "\n",
       "    .dataframe tbody tr th {\n",
       "        vertical-align: top;\n",
       "    }\n",
       "\n",
       "    .dataframe thead th {\n",
       "        text-align: right;\n",
       "    }\n",
       "</style>\n",
       "<table border=\"1\" class=\"dataframe\">\n",
       "  <thead>\n",
       "    <tr style=\"text-align: right;\">\n",
       "      <th></th>\n",
       "      <th>sentence</th>\n",
       "      <th>sentiment</th>\n",
       "      <th>prediction</th>\n",
       "    </tr>\n",
       "  </thead>\n",
       "  <tbody>\n",
       "    <tr>\n",
       "      <th>0</th>\n",
       "      <td>i want to see how_many of the current covid ca...</td>\n",
       "      <td>0</td>\n",
       "      <td>1</td>\n",
       "    </tr>\n",
       "    <tr>\n",
       "      <th>1</th>\n",
       "      <td>i wanted to know the number of deaths</td>\n",
       "      <td>0</td>\n",
       "      <td>1</td>\n",
       "    </tr>\n",
       "    <tr>\n",
       "      <th>2</th>\n",
       "      <td>are you_hiding the deaths_from vaccination ?</td>\n",
       "      <td>0</td>\n",
       "      <td>1</td>\n",
       "    </tr>\n",
       "    <tr>\n",
       "      <th>3</th>\n",
       "      <td>how come there are so few reported deaths in t...</td>\n",
       "      <td>0</td>\n",
       "      <td>1</td>\n",
       "    </tr>\n",
       "    <tr>\n",
       "      <th>4</th>\n",
       "      <td>each_province should state total vaccinations ...</td>\n",
       "      <td>0</td>\n",
       "      <td>1</td>\n",
       "    </tr>\n",
       "    <tr>\n",
       "      <th>...</th>\n",
       "      <td>...</td>\n",
       "      <td>...</td>\n",
       "      <td>...</td>\n",
       "    </tr>\n",
       "    <tr>\n",
       "      <th>17853</th>\n",
       "      <td>where is the update for jan 28th ?</td>\n",
       "      <td>0</td>\n",
       "      <td>1</td>\n",
       "    </tr>\n",
       "    <tr>\n",
       "      <th>17854</th>\n",
       "      <td>poster to help educate lay coworkers who are v...</td>\n",
       "      <td>0</td>\n",
       "      <td>0</td>\n",
       "    </tr>\n",
       "    <tr>\n",
       "      <th>17855</th>\n",
       "      <td>not updated</td>\n",
       "      <td>0</td>\n",
       "      <td>1</td>\n",
       "    </tr>\n",
       "    <tr>\n",
       "      <th>17856</th>\n",
       "      <td>are the vaccine bottles used again</td>\n",
       "      <td>0</td>\n",
       "      <td>1</td>\n",
       "    </tr>\n",
       "    <tr>\n",
       "      <th>17857</th>\n",
       "      <td>is this vaccine traceable or detectable ?</td>\n",
       "      <td>0</td>\n",
       "      <td>0</td>\n",
       "    </tr>\n",
       "  </tbody>\n",
       "</table>\n",
       "<p>17858 rows × 3 columns</p>\n",
       "</div>"
      ],
      "text/plain": [
       "                                                sentence  sentiment  \\\n",
       "0      i want to see how_many of the current covid ca...          0   \n",
       "1                  i wanted to know the number of deaths          0   \n",
       "2           are you_hiding the deaths_from vaccination ?          0   \n",
       "3      how come there are so few reported deaths in t...          0   \n",
       "4      each_province should state total vaccinations ...          0   \n",
       "...                                                  ...        ...   \n",
       "17853                 where is the update for jan 28th ?          0   \n",
       "17854  poster to help educate lay coworkers who are v...          0   \n",
       "17855                                        not updated          0   \n",
       "17856                 are the vaccine bottles used again          0   \n",
       "17857          is this vaccine traceable or detectable ?          0   \n",
       "\n",
       "       prediction  \n",
       "0               1  \n",
       "1               1  \n",
       "2               1  \n",
       "3               1  \n",
       "4               1  \n",
       "...           ...  \n",
       "17853           1  \n",
       "17854           0  \n",
       "17855           1  \n",
       "17856           1  \n",
       "17857           0  \n",
       "\n",
       "[17858 rows x 3 columns]"
      ]
     },
     "execution_count": 126,
     "metadata": {},
     "output_type": "execute_result"
    }
   ],
   "source": [
    "replacement_df[['sentence', \"sentiment\", 'prediction']]"
   ]
  },
  {
   "cell_type": "code",
   "execution_count": 128,
   "metadata": {},
   "outputs": [
    {
     "data": {
      "text/plain": [
       "0    10128\n",
       "1     7730\n",
       "Name: prediction, dtype: int64"
      ]
     },
     "execution_count": 128,
     "metadata": {},
     "output_type": "execute_result"
    }
   ],
   "source": [
    "replacement_df.prediction.value_counts()"
   ]
  }
 ],
 "metadata": {
  "kernelspec": {
   "display_name": "Python 3",
   "language": "python",
   "name": "python3"
  },
  "language_info": {
   "codemirror_mode": {
    "name": "ipython",
    "version": 3
   },
   "file_extension": ".py",
   "mimetype": "text/x-python",
   "name": "python",
   "nbconvert_exporter": "python",
   "pygments_lexer": "ipython3",
   "version": "3.8.3"
  }
 },
 "nbformat": 4,
 "nbformat_minor": 4
}

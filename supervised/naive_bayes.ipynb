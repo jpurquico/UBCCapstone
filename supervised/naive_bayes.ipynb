{
 "cells": [
  {
   "cell_type": "code",
   "execution_count": 64,
   "metadata": {},
   "outputs": [],
   "source": [
    "import numpy as np\n",
    "import pandas as pd\n",
    "import nltk\n",
    "import re\n",
    "from re import sub\n",
    "from nltk.corpus import stopwords\n",
    "from nltk.stem.snowball import SnowballStemmer\n",
    "from sklearn.model_selection import train_test_split, cross_validate\n",
    "from sklearn.metrics import f1_score, recall_score, accuracy_score, make_scorer\n",
    "from sklearn.feature_extraction.text import TfidfVectorizer\n",
    "from sklearn.naive_bayes import MultinomialNB\n",
    "from sklearn.multiclass import OneVsRestClassifier\n"
   ]
  },
  {
   "cell_type": "code",
   "execution_count": 36,
   "metadata": {},
   "outputs": [],
   "source": [
    "full_df = pd.read_csv('../../data/travel_full.csv')\n",
    "en_df = full_df.dropna(subset=['Comment', \"Tags\"])\n",
    "en_df = en_df[en_df[\"Lang\"]=='EN']"
   ]
  },
  {
   "cell_type": "code",
   "execution_count": 37,
   "metadata": {},
   "outputs": [],
   "source": [
    "def text_to_word_list(text):\n",
    "    ''' Pre process and convert texts to a list of words. \n",
    "    Adapted from the code of Rafał Wójcik: https://towardsdatascience.com/unsupervised-sentiment-analysis-a38bf1906483'''\n",
    "    \n",
    "    text = str(text)\n",
    "    text = text.lower()\n",
    "\n",
    "    # Clean the text\n",
    "    text = sub(r\"[^A-Za-z0-9^,!?.\\/'+]\", \" \", text)\n",
    "    text = sub(r\"\\+\", \" plus \", text)\n",
    "    text = sub(r\",\", \" \", text)\n",
    "    text = sub(r\"\\.\", \" \", text)\n",
    "    text = sub(r\"!\", \" ! \", text)\n",
    "    text = sub(r\"\\?\", \" ? \", text)\n",
    "    text = sub(r\"'\", \" \", text)\n",
    "    text = sub(r\":\", \" : \", text)\n",
    "    text = sub(r\"\\s{2,}\", \" \", text)\n",
    "\n",
    "    text = text.split()\n",
    "\n",
    "    return text"
   ]
  },
  {
   "cell_type": "code",
   "execution_count": 38,
   "metadata": {},
   "outputs": [
    {
     "data": {
      "text/html": [
       "<div>\n",
       "<style scoped>\n",
       "    .dataframe tbody tr th:only-of-type {\n",
       "        vertical-align: middle;\n",
       "    }\n",
       "\n",
       "    .dataframe tbody tr th {\n",
       "        vertical-align: top;\n",
       "    }\n",
       "\n",
       "    .dataframe thead th {\n",
       "        text-align: right;\n",
       "    }\n",
       "</style>\n",
       "<table border=\"1\" class=\"dataframe\">\n",
       "  <thead>\n",
       "    <tr style=\"text-align: right;\">\n",
       "      <th></th>\n",
       "      <th>Unique ID</th>\n",
       "      <th>Date</th>\n",
       "      <th>URL</th>\n",
       "      <th>Page title</th>\n",
       "      <th>Comment</th>\n",
       "      <th>Tags</th>\n",
       "      <th>Refining details</th>\n",
       "      <th>Status</th>\n",
       "      <th>What's wrong</th>\n",
       "      <th>Lang</th>\n",
       "      <th>Tags confirmed</th>\n",
       "    </tr>\n",
       "  </thead>\n",
       "  <tbody>\n",
       "    <tr>\n",
       "      <th>0</th>\n",
       "      <td>60a063c82b6da5147c289783</td>\n",
       "      <td>16 May, 2021</td>\n",
       "      <td>travel.gc.ca/travel-covid/travel-restrictions/...</td>\n",
       "      <td>Flying to Canada: COVID-19 testing for travell...</td>\n",
       "      <td>quero viajar de portugal para a inglaterra</td>\n",
       "      <td>Restrictions or Requirements</td>\n",
       "      <td>Travel outside Canada</td>\n",
       "      <td>New</td>\n",
       "      <td>Other reason</td>\n",
       "      <td>EN</td>\n",
       "      <td>checked</td>\n",
       "    </tr>\n",
       "    <tr>\n",
       "      <th>1</th>\n",
       "      <td>60a067a62b6da5147c28978d</td>\n",
       "      <td>16 May, 2021</td>\n",
       "      <td>travel.gc.ca/travel-covid</td>\n",
       "      <td>\"COVID-19: Travel, testing, quarantine and bor...</td>\n",
       "      <td>if one is cleared of all tests and given the o...</td>\n",
       "      <td>Quarantine</td>\n",
       "      <td>Have been vaccinated</td>\n",
       "      <td>New</td>\n",
       "      <td>NaN</td>\n",
       "      <td>EN</td>\n",
       "      <td>checked</td>\n",
       "    </tr>\n",
       "    <tr>\n",
       "      <th>2</th>\n",
       "      <td>60a06bde2b6da5147c289790</td>\n",
       "      <td>16 May, 2021</td>\n",
       "      <td>travel.gc.ca/travel-covid/travel-restrictions/...</td>\n",
       "      <td>Mandatory quarantine or isolation – Travel res...</td>\n",
       "      <td>why if fully vaccinated would you need to quar...</td>\n",
       "      <td>Quarantine</td>\n",
       "      <td>Have been vaccinated</td>\n",
       "      <td>New</td>\n",
       "      <td>The information is hard to understand</td>\n",
       "      <td>EN</td>\n",
       "      <td>checked</td>\n",
       "    </tr>\n",
       "    <tr>\n",
       "      <th>3</th>\n",
       "      <td>60a06bfc2b6da5147c289791</td>\n",
       "      <td>16 May, 2021</td>\n",
       "      <td>travel.gc.ca/travel-covid/travel-restrictions/...</td>\n",
       "      <td>Find out if you can travel to Canada - Citizen...</td>\n",
       "      <td>can i land in the us and cross border by car</td>\n",
       "      <td>Restrictions or Requirements</td>\n",
       "      <td>Driving - By land or water</td>\n",
       "      <td>New</td>\n",
       "      <td>NaN</td>\n",
       "      <td>EN</td>\n",
       "      <td>checked</td>\n",
       "    </tr>\n",
       "    <tr>\n",
       "      <th>4</th>\n",
       "      <td>60a06c382b6da5147c289792</td>\n",
       "      <td>16 May, 2021</td>\n",
       "      <td>travel.gc.ca/travel-covid/travel-restrictions/...</td>\n",
       "      <td>Mandatory quarantine or isolation – Travel res...</td>\n",
       "      <td>i m trying to figure out if i can quarantine o...</td>\n",
       "      <td>Quarantine</td>\n",
       "      <td>Just main topic</td>\n",
       "      <td>New</td>\n",
       "      <td>I can't find the information</td>\n",
       "      <td>EN</td>\n",
       "      <td>checked</td>\n",
       "    </tr>\n",
       "  </tbody>\n",
       "</table>\n",
       "</div>"
      ],
      "text/plain": [
       "                  Unique ID          Date  \\\n",
       "0  60a063c82b6da5147c289783  16 May, 2021   \n",
       "1  60a067a62b6da5147c28978d  16 May, 2021   \n",
       "2  60a06bde2b6da5147c289790  16 May, 2021   \n",
       "3  60a06bfc2b6da5147c289791  16 May, 2021   \n",
       "4  60a06c382b6da5147c289792  16 May, 2021   \n",
       "\n",
       "                                                 URL  \\\n",
       "0  travel.gc.ca/travel-covid/travel-restrictions/...   \n",
       "1                          travel.gc.ca/travel-covid   \n",
       "2  travel.gc.ca/travel-covid/travel-restrictions/...   \n",
       "3  travel.gc.ca/travel-covid/travel-restrictions/...   \n",
       "4  travel.gc.ca/travel-covid/travel-restrictions/...   \n",
       "\n",
       "                                          Page title  \\\n",
       "0  Flying to Canada: COVID-19 testing for travell...   \n",
       "1  \"COVID-19: Travel, testing, quarantine and bor...   \n",
       "2  Mandatory quarantine or isolation – Travel res...   \n",
       "3  Find out if you can travel to Canada - Citizen...   \n",
       "4  Mandatory quarantine or isolation – Travel res...   \n",
       "\n",
       "                                             Comment  \\\n",
       "0         quero viajar de portugal para a inglaterra   \n",
       "1  if one is cleared of all tests and given the o...   \n",
       "2  why if fully vaccinated would you need to quar...   \n",
       "3       can i land in the us and cross border by car   \n",
       "4  i m trying to figure out if i can quarantine o...   \n",
       "\n",
       "                           Tags            Refining details Status  \\\n",
       "0  Restrictions or Requirements       Travel outside Canada    New   \n",
       "1                    Quarantine        Have been vaccinated    New   \n",
       "2                    Quarantine        Have been vaccinated    New   \n",
       "3  Restrictions or Requirements  Driving - By land or water    New   \n",
       "4                    Quarantine             Just main topic    New   \n",
       "\n",
       "                            What's wrong Lang Tags confirmed  \n",
       "0                           Other reason   EN        checked  \n",
       "1                                    NaN   EN        checked  \n",
       "2  The information is hard to understand   EN        checked  \n",
       "3                                    NaN   EN        checked  \n",
       "4           I can't find the information   EN        checked  "
      ]
     },
     "execution_count": 38,
     "metadata": {},
     "output_type": "execute_result"
    }
   ],
   "source": [
    "cleaned_df = en_df.copy()\n",
    "cleaned_df.Comment = cleaned_df.Comment.apply(lambda x: text_to_word_list(x))\n",
    "cleaned_df.Comment = cleaned_df.Comment.str.join(' ')\n",
    "cleaned_df.head()"
   ]
  },
  {
   "cell_type": "code",
   "execution_count": 39,
   "metadata": {},
   "outputs": [],
   "source": [
    "#cleaned_df = cleaned_df[['Comment', 'Tags']]"
   ]
  },
  {
   "cell_type": "code",
   "execution_count": 40,
   "metadata": {},
   "outputs": [],
   "source": [
    "train_df, test_df = train_test_split(cleaned_df, test_size = 0.15, random_state=123)"
   ]
  },
  {
   "cell_type": "code",
   "execution_count": 41,
   "metadata": {},
   "outputs": [
    {
     "name": "stderr",
     "output_type": "stream",
     "text": [
      "C:\\Users\\Jan\\miniconda3\\lib\\site-packages\\pandas\\core\\generic.py:5159: SettingWithCopyWarning: \n",
      "A value is trying to be set on a copy of a slice from a DataFrame.\n",
      "Try using .loc[row_indexer,col_indexer] = value instead\n",
      "\n",
      "See the caveats in the documentation: https://pandas.pydata.org/pandas-docs/stable/user_guide/indexing.html#returning-a-view-versus-a-copy\n",
      "  self[name] = value\n"
     ]
    }
   ],
   "source": [
    "## Adapted from https://github.com/alpha-canada-ca/feedback-classification-retroaction/blob/master/process_feedback.py\n",
    "#function to clean the word of any punctuation or special characters\n",
    "def cleanPunc(sentence):\n",
    "    cleaned = re.sub(r'[?|!|\\'|\"|#]',r'',sentence)\n",
    "    cleaned = re.sub(r'[.|,|)|(|\\|/]',r' ',cleaned)\n",
    "    cleaned = cleaned.strip()\n",
    "    cleaned = cleaned.replace(\"\\n\",\" \")\n",
    "    return cleaned\n",
    "\n",
    "#function to convert to lowercase\n",
    "def keepAlpha(sentence):\n",
    "    alpha_sent = \"\"\n",
    "    for word in sentence.split():\n",
    "        alpha_word = re.sub('[^a-z A-Z]+', ' ', word)\n",
    "        alpha_sent += alpha_word\n",
    "        alpha_sent += \" \"\n",
    "    alpha_sent = alpha_sent.strip()\n",
    "    return alpha_sent\n",
    "\n",
    "\n",
    "#function to stem feedbck (English)\n",
    "stemmer_en = SnowballStemmer(\"english\")\n",
    "def stemming_en(sentence):\n",
    "    stemSentence = \"\"\n",
    "    for word in sentence.split():\n",
    "        stem = stemmer_en.stem(word)\n",
    "        stemSentence += stem\n",
    "        stemSentence += \" \"\n",
    "    stemSentence = stemSentence.strip()\n",
    "    return stemSentence\n",
    "\n",
    "#apply pre-process functions to English\n",
    "train_df.Comment = train_df.Comment.str.lower()\n",
    "train_df.Comment = train_df.Comment.apply(cleanPunc)\n",
    "train_df.Comment = train_df.Comment.apply(keepAlpha)\n",
    "train_df.Comment = train_df.Comment.apply(stemming_en)"
   ]
  },
  {
   "cell_type": "code",
   "execution_count": 42,
   "metadata": {},
   "outputs": [],
   "source": [
    "def prepare_for_classification(train,dev,max_n=3):\n",
    "    '''convert lists of reviews train and dev to spare feature matrices X_train and X_test,\n",
    "      and lists of polarity classifications train_class and dev_class'''\n",
    "    vectorizer = TfidfVectorizer(strip_accents='unicode', analyzer='word', ngram_range=(1,max_n), norm='l2')\n",
    "    train_texts = train.Comment.values\n",
    "    train_class = train.Tags.values\n",
    "    dev_texts = dev.Comment.values\n",
    "    dev_class = dev.Tags.values\n",
    "    X_train = vectorizer.fit_transform(train_texts)\n",
    "    X_dev = vectorizer.transform(dev_texts)\n",
    "    \n",
    "    return X_train,train_class, X_dev,dev_class"
   ]
  },
  {
   "cell_type": "code",
   "execution_count": 72,
   "metadata": {},
   "outputs": [],
   "source": [
    "def evaluate(train, test, n = 3):\n",
    "    \"\"\"Calculate the the f1 score from given train test data set, and n grams\"\"\"\n",
    "    \n",
    "    X_train,train_class, X_test,test_class = prepare_for_classification(train,test,max_n=n)\n",
    "    clf = OneVsRestClassifier(MultinomialNB(alpha=0.3, fit_prior=True, class_prior=None))\n",
    "    clf.fit(X_train,train_class)\n",
    "    \n",
    "    scores = cross_validate(clf, X_train, train_class, return_train_score=True)\n",
    "    fscore = f1_score(test_class, clf.predict(X_test), average='macro')\n",
    "    accuracy = accuracy_score(test_class, clf.predict(X_test))\n",
    "    \n",
    "    print(f\"The shape of training set is {X_train.shape}, the fscore is {round(fscore, 4)}, the accuracy is {round(accuracy, 4)}\")\n",
    "    return pd.DataFrame(scores)"
   ]
  },
  {
   "cell_type": "code",
   "execution_count": 73,
   "metadata": {},
   "outputs": [
    {
     "name": "stderr",
     "output_type": "stream",
     "text": [
      "C:\\Users\\Jan\\miniconda3\\lib\\site-packages\\sklearn\\model_selection\\_split.py:670: UserWarning: The least populated class in y has only 1 members, which is less than n_splits=5.\n",
      "  warnings.warn((\"The least populated class in y has only %d\"\n"
     ]
    },
    {
     "name": "stdout",
     "output_type": "stream",
     "text": [
      "The shape of training set is (10591, 168755), the fscore is 0.4306, the accuracy is 0.549\n"
     ]
    },
    {
     "data": {
      "text/html": [
       "<div>\n",
       "<style scoped>\n",
       "    .dataframe tbody tr th:only-of-type {\n",
       "        vertical-align: middle;\n",
       "    }\n",
       "\n",
       "    .dataframe tbody tr th {\n",
       "        vertical-align: top;\n",
       "    }\n",
       "\n",
       "    .dataframe thead th {\n",
       "        text-align: right;\n",
       "    }\n",
       "</style>\n",
       "<table border=\"1\" class=\"dataframe\">\n",
       "  <thead>\n",
       "    <tr style=\"text-align: right;\">\n",
       "      <th></th>\n",
       "      <th>fit_time</th>\n",
       "      <th>score_time</th>\n",
       "      <th>test_score</th>\n",
       "      <th>train_score</th>\n",
       "    </tr>\n",
       "  </thead>\n",
       "  <tbody>\n",
       "    <tr>\n",
       "      <th>0</th>\n",
       "      <td>0.124001</td>\n",
       "      <td>0.026998</td>\n",
       "      <td>0.636621</td>\n",
       "      <td>0.953140</td>\n",
       "    </tr>\n",
       "    <tr>\n",
       "      <th>1</th>\n",
       "      <td>0.152999</td>\n",
       "      <td>0.032039</td>\n",
       "      <td>0.626062</td>\n",
       "      <td>0.954326</td>\n",
       "    </tr>\n",
       "    <tr>\n",
       "      <th>2</th>\n",
       "      <td>0.148049</td>\n",
       "      <td>0.029988</td>\n",
       "      <td>0.633617</td>\n",
       "      <td>0.951375</td>\n",
       "    </tr>\n",
       "    <tr>\n",
       "      <th>3</th>\n",
       "      <td>0.144035</td>\n",
       "      <td>0.030015</td>\n",
       "      <td>0.620869</td>\n",
       "      <td>0.954562</td>\n",
       "    </tr>\n",
       "    <tr>\n",
       "      <th>4</th>\n",
       "      <td>0.124983</td>\n",
       "      <td>0.028016</td>\n",
       "      <td>0.640699</td>\n",
       "      <td>0.952083</td>\n",
       "    </tr>\n",
       "  </tbody>\n",
       "</table>\n",
       "</div>"
      ],
      "text/plain": [
       "   fit_time  score_time  test_score  train_score\n",
       "0  0.124001    0.026998    0.636621     0.953140\n",
       "1  0.152999    0.032039    0.626062     0.954326\n",
       "2  0.148049    0.029988    0.633617     0.951375\n",
       "3  0.144035    0.030015    0.620869     0.954562\n",
       "4  0.124983    0.028016    0.640699     0.952083"
      ]
     },
     "execution_count": 73,
     "metadata": {},
     "output_type": "execute_result"
    }
   ],
   "source": [
    "evaluate(train_df, test_df, 3)"
   ]
  },
  {
   "cell_type": "code",
   "execution_count": 45,
   "metadata": {},
   "outputs": [
    {
     "data": {
      "text/plain": [
       "OneVsRestClassifier(estimator=MultinomialNB(alpha=0.3))"
      ]
     },
     "execution_count": 45,
     "metadata": {},
     "output_type": "execute_result"
    }
   ],
   "source": [
    "X_train,train_class, X_test,test_class = prepare_for_classification(train_df,test_df,max_n=3)\n",
    "clf = OneVsRestClassifier(MultinomialNB(alpha=0.3, fit_prior=True, class_prior=None))\n",
    "clf.fit(X_train,train_class)"
   ]
  },
  {
   "cell_type": "code",
   "execution_count": 46,
   "metadata": {},
   "outputs": [],
   "source": [
    "sample_comments = test_df[['Comment', 'Tags']][:100]\n",
    "sample_comments['Preds'] = list(clf.predict(X_test)[:100])"
   ]
  },
  {
   "cell_type": "code",
   "execution_count": 47,
   "metadata": {},
   "outputs": [],
   "source": [
    "sample_comments.to_csv('../data/travel_error_analysis_NB.csv')"
   ]
  },
  {
   "cell_type": "code",
   "execution_count": null,
   "metadata": {},
   "outputs": [],
   "source": [
    "accuracy_score(test_class, clf.predict(X_test))"
   ]
  }
 ],
 "metadata": {
  "kernelspec": {
   "display_name": "Python 3",
   "language": "python",
   "name": "python3"
  },
  "language_info": {
   "codemirror_mode": {
    "name": "ipython",
    "version": 3
   },
   "file_extension": ".py",
   "mimetype": "text/x-python",
   "name": "python",
   "nbconvert_exporter": "python",
   "pygments_lexer": "ipython3",
   "version": "3.8.3"
  }
 },
 "nbformat": 4,
 "nbformat_minor": 4
}

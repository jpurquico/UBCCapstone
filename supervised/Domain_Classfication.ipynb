{
  "nbformat": 4,
  "nbformat_minor": 0,
  "metadata": {
    "colab": {
      "name": "Domain Classfication.ipynb",
      "provenance": []
    },
    "kernelspec": {
      "name": "python3",
      "display_name": "Python 3"
    },
    "language_info": {
      "name": "python"
    }
  },
  "cells": [
    {
      "cell_type": "code",
      "metadata": {
        "id": "otPBE6CJuwzz"
      },
      "source": [
        "import numpy as np\n",
        "from sklearn.metrics import f1_score, recall_score, accuracy_score\n",
        "from collections import defaultdict\n",
        "from sklearn.svm import LinearSVC, LinearSVR\n",
        "from sklearn.feature_extraction.text import CountVectorizer\n",
        "import pandas as pd\n",
        "from sklearn.model_selection import cross_val_score, cross_validate, train_test_split"
      ],
      "execution_count": null,
      "outputs": []
    },
    {
      "cell_type": "code",
      "metadata": {
        "id": "dKL8b4WBwWqr"
      },
      "source": [
        "data_path_vaccine = \"/content/drive/MyDrive/Colab Notebooks/Capstone_govt_of_canada/data/Page feedback-Vaccine pages-May17.csv\"\n",
        "data_path_travel = \"/content/drive/MyDrive/Colab Notebooks/Capstone_govt_of_canada/data/Page feedback-Travel-May17.csv\"\n",
        "data_path_benefits = \"/content/drive/MyDrive/Colab Notebooks/Capstone_govt_of_canada/data/Page feedback-Benefits.csv\"\n",
        "data_path_taxes = \"/content/drive/MyDrive/Colab Notebooks/Capstone_govt_of_canada/data/Page feedback-Taxes.csv\""
      ],
      "execution_count": null,
      "outputs": []
    },
    {
      "cell_type": "code",
      "metadata": {
        "id": "w5M-byT8wqHS"
      },
      "source": [
        "domains = ['vaccine', 'travel', 'benefits', 'taxes']\n",
        "# df = pd.DataFrame(columns=['Unique ID', 'Date', 'Comment', 'Tags', 'Domain'])\n",
        "df_lst = []\n",
        "for domain in domains:\n",
        "  exec(f'df_{domain} = pd.read_csv(data_path_{domain})')\n",
        "  exec(f\"df_{domain} = df_{domain}[df_{domain}['Tags confirmed']=='checked'][df_{domain}['Lang'] == 'EN']\")\n",
        "  exec(f\"df_{domain}['Domain'] = '{domain}'\")\n",
        "  exec(f\"df_lst.append(df_{domain}[['Unique ID', 'Date', 'Comment', 'Tags', 'Domain']].dropna())\")\n",
        "df = pd.concat(df_lst, axis=0, ignore_index=True)"
      ],
      "execution_count": null,
      "outputs": []
    },
    {
      "cell_type": "code",
      "metadata": {
        "colab": {
          "base_uri": "https://localhost:8080/",
          "height": 419
        },
        "id": "jvuJOXDqz-Oe",
        "outputId": "8d9afd54-f703-4c4c-c71a-1740df921f09"
      },
      "source": [
        "df"
      ],
      "execution_count": null,
      "outputs": [
        {
          "output_type": "execute_result",
          "data": {
            "text/html": [
              "<div>\n",
              "<style scoped>\n",
              "    .dataframe tbody tr th:only-of-type {\n",
              "        vertical-align: middle;\n",
              "    }\n",
              "\n",
              "    .dataframe tbody tr th {\n",
              "        vertical-align: top;\n",
              "    }\n",
              "\n",
              "    .dataframe thead th {\n",
              "        text-align: right;\n",
              "    }\n",
              "</style>\n",
              "<table border=\"1\" class=\"dataframe\">\n",
              "  <thead>\n",
              "    <tr style=\"text-align: right;\">\n",
              "      <th></th>\n",
              "      <th>Unique ID</th>\n",
              "      <th>Date</th>\n",
              "      <th>Comment</th>\n",
              "      <th>Tags</th>\n",
              "      <th>Domain</th>\n",
              "    </tr>\n",
              "  </thead>\n",
              "  <tbody>\n",
              "    <tr>\n",
              "      <th>0</th>\n",
              "      <td>60a2746a2b6da5147c289ae3</td>\n",
              "      <td>17 May, 2021</td>\n",
              "      <td>I want to see how many of the current covid ca...</td>\n",
              "      <td>Data and tracking vaccines</td>\n",
              "      <td>vaccine</td>\n",
              "    </tr>\n",
              "    <tr>\n",
              "      <th>1</th>\n",
              "      <td>60a2735c2b6da5147c289ada</td>\n",
              "      <td>17 May, 2021</td>\n",
              "      <td>I wanted to know the number of deaths.</td>\n",
              "      <td>Data and tracking vaccines</td>\n",
              "      <td>vaccine</td>\n",
              "    </tr>\n",
              "    <tr>\n",
              "      <th>2</th>\n",
              "      <td>60a28aae2b6da5147c289b4f</td>\n",
              "      <td>17 May, 2021</td>\n",
              "      <td>Are you hiding the deaths from vaccination?</td>\n",
              "      <td>Data and tracking vaccines</td>\n",
              "      <td>vaccine</td>\n",
              "    </tr>\n",
              "    <tr>\n",
              "      <th>3</th>\n",
              "      <td>60a28dd82b6da5147c289b66</td>\n",
              "      <td>17 May, 2021</td>\n",
              "      <td>How come there are so few reported deaths in t...</td>\n",
              "      <td>Data and tracking vaccines</td>\n",
              "      <td>vaccine</td>\n",
              "    </tr>\n",
              "    <tr>\n",
              "      <th>4</th>\n",
              "      <td>60a220282b6da5147c289a3c</td>\n",
              "      <td>17 May, 2021</td>\n",
              "      <td>Each province should state total vaccinations ...</td>\n",
              "      <td>Data and tracking vaccines</td>\n",
              "      <td>vaccine</td>\n",
              "    </tr>\n",
              "    <tr>\n",
              "      <th>...</th>\n",
              "      <td>...</td>\n",
              "      <td>...</td>\n",
              "      <td>...</td>\n",
              "      <td>...</td>\n",
              "      <td>...</td>\n",
              "    </tr>\n",
              "    <tr>\n",
              "      <th>44211</th>\n",
              "      <td>5fee454e8704dd24e00b9d71</td>\n",
              "      <td>31 December, 2020</td>\n",
              "      <td>trying to register for on line T4E slip</td>\n",
              "      <td>T4 information (T1/T4/T4A/T4E/R1)</td>\n",
              "      <td>taxes</td>\n",
              "    </tr>\n",
              "    <tr>\n",
              "      <th>44212</th>\n",
              "      <td>5fee4d648704dd24e00b9d83</td>\n",
              "      <td>31 December, 2020</td>\n",
              "      <td>Where do 8 find the Application o file online?</td>\n",
              "      <td>Income tax form or guide</td>\n",
              "      <td>taxes</td>\n",
              "    </tr>\n",
              "    <tr>\n",
              "      <th>44213</th>\n",
              "      <td>5fee4eae8704dd24e00b9d85</td>\n",
              "      <td>31 December, 2020</td>\n",
              "      <td>I need the on-line application form</td>\n",
              "      <td>Income tax form or guide</td>\n",
              "      <td>taxes</td>\n",
              "    </tr>\n",
              "    <tr>\n",
              "      <th>44214</th>\n",
              "      <td>5fee654c8704dd24e00b9da8</td>\n",
              "      <td>31 December, 2020</td>\n",
              "      <td>I want to file on line , unable to find the re...</td>\n",
              "      <td>COVID benefits</td>\n",
              "      <td>taxes</td>\n",
              "    </tr>\n",
              "    <tr>\n",
              "      <th>44215</th>\n",
              "      <td>5fee55208704dd24e00b9d8d</td>\n",
              "      <td>31 December, 2020</td>\n",
              "      <td>How do I find the gross amount on my CRB it on...</td>\n",
              "      <td>COVID benefits</td>\n",
              "      <td>taxes</td>\n",
              "    </tr>\n",
              "  </tbody>\n",
              "</table>\n",
              "<p>44216 rows × 5 columns</p>\n",
              "</div>"
            ],
            "text/plain": [
              "                      Unique ID  ...   Domain\n",
              "0      60a2746a2b6da5147c289ae3  ...  vaccine\n",
              "1      60a2735c2b6da5147c289ada  ...  vaccine\n",
              "2      60a28aae2b6da5147c289b4f  ...  vaccine\n",
              "3      60a28dd82b6da5147c289b66  ...  vaccine\n",
              "4      60a220282b6da5147c289a3c  ...  vaccine\n",
              "...                         ...  ...      ...\n",
              "44211  5fee454e8704dd24e00b9d71  ...    taxes\n",
              "44212  5fee4d648704dd24e00b9d83  ...    taxes\n",
              "44213  5fee4eae8704dd24e00b9d85  ...    taxes\n",
              "44214  5fee654c8704dd24e00b9da8  ...    taxes\n",
              "44215  5fee55208704dd24e00b9d8d  ...    taxes\n",
              "\n",
              "[44216 rows x 5 columns]"
            ]
          },
          "metadata": {
            "tags": []
          },
          "execution_count": 20
        }
      ]
    },
    {
      "cell_type": "code",
      "metadata": {
        "id": "r9JgFdRE1REp"
      },
      "source": [
        "train_df, dev_df = train_test_split(df,  test_size=0.2, random_state=11)"
      ],
      "execution_count": null,
      "outputs": []
    },
    {
      "cell_type": "code",
      "metadata": {
        "id": "-eBPX0J_1aR0"
      },
      "source": [
        "def prepare_for_classification(train,dev,max_n=2):\n",
        "  '''convert lists of reviews train and dev to spare feature matrices X_train and X_test,\n",
        "  and lists of polarity classifications train_class and dev_class'''\n",
        "  vectorizer = CountVectorizer(ngram_range=(1,max_n),min_df=2)\n",
        "  train_texts = train.Comment.values\n",
        "  train_class = train.Domain.values\n",
        "  dev_texts = dev.Comment.values\n",
        "  dev_class = dev.Domain.values\n",
        "  X_train = vectorizer.fit_transform(train_texts)\n",
        "  X_dev = vectorizer.transform(dev_texts)\n",
        "  return X_train,train_class, X_dev,dev_class"
      ],
      "execution_count": null,
      "outputs": []
    },
    {
      "cell_type": "code",
      "metadata": {
        "colab": {
          "base_uri": "https://localhost:8080/"
        },
        "id": "X2k-ciae1fNp",
        "outputId": "e202630e-e063-4241-cb56-11f4ea59c1ed"
      },
      "source": [
        "def evluate(train, test, n = 2):\n",
        "    \"\"\"Calculate the the kendalltau score from given train test data set, and n grams\"\"\"\n",
        "    \n",
        "    X_train,train_class, X_test,test_class = prepare_for_classification(train,test,max_n=n)\n",
        "    clf = LinearSVC()\n",
        "    clf.fit(X_train,train_class)\n",
        "    \n",
        "    fscore = f1_score(test_class, clf.predict(X_test), average='macro')\n",
        "    acc = accuracy_score(test_class, clf.predict(X_test))\n",
        "    \n",
        "    print(f\"{n}-gram: The shape of training set is {X_train.shape}, the fscore is {fscore}, the accuracy is {acc}\")\n",
        "\n",
        "    return fscore\n",
        "    \n",
        " \n",
        "print(\"Domain:\")\n",
        "for n in range(1, 6):\n",
        "    evluate(train_df,dev_df, n)"
      ],
      "execution_count": null,
      "outputs": [
        {
          "output_type": "stream",
          "text": [
            "Domain:\n"
          ],
          "name": "stdout"
        },
        {
          "output_type": "stream",
          "text": [
            "/usr/local/lib/python3.7/dist-packages/sklearn/svm/_base.py:947: ConvergenceWarning: Liblinear failed to converge, increase the number of iterations.\n",
            "  \"the number of iterations.\", ConvergenceWarning)\n"
          ],
          "name": "stderr"
        },
        {
          "output_type": "stream",
          "text": [
            "1-gram: The shape of training set is (35372, 7368), the fscore is 0.8800040753751185, the accuracy is 0.9265038444142921\n",
            "2-gram: The shape of training set is (35372, 46822), the fscore is 0.8793972322516708, the accuracy is 0.9276345545002261\n",
            "3-gram: The shape of training set is (35372, 86980), the fscore is 0.8762268301788885, the accuracy is 0.9259384893713252\n",
            "4-gram: The shape of training set is (35372, 110294), the fscore is 0.8786383546152217, the accuracy is 0.9269561284486658\n",
            "5-gram: The shape of training set is (35372, 121251), the fscore is 0.8789474556703893, the accuracy is 0.9268430574400723\n"
          ],
          "name": "stdout"
        }
      ]
    }
  ]
}
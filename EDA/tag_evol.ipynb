{
 "cells": [
  {
   "cell_type": "code",
   "execution_count": 1,
   "metadata": {},
   "outputs": [],
   "source": [
    "import pandas as pd\n",
    "import re"
   ]
  },
  {
   "cell_type": "code",
   "execution_count": 58,
   "metadata": {},
   "outputs": [],
   "source": [
    "df = pd.read_csv('../../data/vaccine_full.csv')[['Date', 'Tags']]"
   ]
  },
  {
   "cell_type": "code",
   "execution_count": 77,
   "metadata": {},
   "outputs": [],
   "source": [
    "df = pd.read_csv('../../data/vaccine_full.csv')[['Date', 'Tags']]\n",
    "dates = df.Date.to_list()\n",
    "tags = df.Tags.to_list()\n",
    "dates.reverse()\n",
    "tags.reverse()"
   ]
  },
  {
   "cell_type": "code",
   "execution_count": 87,
   "metadata": {},
   "outputs": [
    {
     "name": "stdout",
     "output_type": "stream",
     "text": [
      "1 February, 2021 Vaccines - Other\n",
      "1 February, 2021 Vaccine strategy: Authorization / Eligibility / Priorities\n",
      "1 February, 2021 Vaccine safety (health issues / ingredients / side effects / research)\n",
      "1 February, 2021 Vaccine effectiveness / delayed dosage\n",
      "26 April, 2021 Life after vaccination\n",
      "1 February, 2021 Getting vaccinated - When / Where / What\n",
      "1 February, 2021 Getting vaccinated - Registration / notifications\n",
      "1 February, 2021 Data and tracking vaccines\n"
     ]
    }
   ],
   "source": [
    "tag_set = set()\n",
    "for i, date in enumerate(dates):\n",
    "    tag = tags[i]\n",
    "    if tag not in tag_set:\n",
    "        print(date, tag)\n",
    "        tag_set.add(tag)\n",
    "    else:\n",
    "        continue"
   ]
  },
  {
   "cell_type": "code",
   "execution_count": 81,
   "metadata": {},
   "outputs": [],
   "source": [
    "def tag_evol(path):\n",
    "    df = pd.read_csv(path)\n",
    "    df = df[['Date', 'Tags']]\n",
    "    df = df.groupby('Date')\n",
    "    regex = '[A-Za-z]+'\n",
    "    tag_dict = {}\n",
    "    tag_count_dict = {}\n",
    "    for row in df:\n",
    "        tag_dict[re.search(regex, row[0])[0]]=row[1]['Tags'].unique()\n",
    "        tag_count_dict[re.search(regex, row[0])[0]]=len(row[1]['Tags'].unique())\n",
    "    return tag_dict, tag_count_dict"
   ]
  },
  {
   "cell_type": "code",
   "execution_count": 14,
   "metadata": {},
   "outputs": [],
   "source": [
    "# vaccine\n",
    "tags, tag_counts = tag_evol('../../data/vaccine_full.csv')"
   ]
  },
  {
   "cell_type": "code",
   "execution_count": 16,
   "metadata": {},
   "outputs": [
    {
     "data": {
      "text/plain": [
       "{'April': 7, 'February': 7, 'March': 7, 'May': 8}"
      ]
     },
     "execution_count": 16,
     "metadata": {},
     "output_type": "execute_result"
    }
   ],
   "source": [
    "tag_counts"
   ]
  },
  {
   "cell_type": "code",
   "execution_count": 44,
   "metadata": {},
   "outputs": [],
   "source": [
    "def enum_counts(df, month):\n",
    "    for row in df:\n",
    "        if re.search(regex, row[0])[0] == month:\n",
    "            print(row[0], '-', len(row[1]['Tags'].unique()))\n",
    "            #print(row[1]['Tags'].unique())"
   ]
  },
  {
   "cell_type": "code",
   "execution_count": 45,
   "metadata": {},
   "outputs": [],
   "source": [
    "enum_counts(df, 'April')"
   ]
  },
  {
   "cell_type": "code",
   "execution_count": 50,
   "metadata": {},
   "outputs": [],
   "source": [
    "## travel\n",
    "df = pd.read_csv('../../data/travel_full.csv')[['Date', 'Tags']].groupby('Date')\n",
    "tags, tag_counts = tag_evol('../../data/travel_full.csv')"
   ]
  },
  {
   "cell_type": "code",
   "execution_count": 51,
   "metadata": {},
   "outputs": [
    {
     "data": {
      "text/plain": [
       "{'March': 8, 'May': 8, 'April': 9, 'February': 8}"
      ]
     },
     "execution_count": 51,
     "metadata": {},
     "output_type": "execute_result"
    }
   ],
   "source": [
    "tag_counts"
   ]
  },
  {
   "cell_type": "code",
   "execution_count": 54,
   "metadata": {},
   "outputs": [
    {
     "name": "stdout",
     "output_type": "stream",
     "text": [
      "10 April, 2021 - 9\n",
      "11 April, 2021 - 9\n",
      "16 April, 2021 - 9\n",
      "17 April, 2021 - 8\n",
      "18 April, 2021 - 9\n",
      "2 April, 2021 - 9\n",
      "23 April, 2021 - 8\n",
      "24 April, 2021 - 8\n",
      "25 April, 2021 - 9\n",
      "3 April, 2021 - 8\n",
      "30 April, 2021 - 8\n",
      "4 April, 2021 - 9\n",
      "9 April, 2021 - 9\n"
     ]
    }
   ],
   "source": [
    "enum_counts(df, 'April')"
   ]
  },
  {
   "cell_type": "code",
   "execution_count": 88,
   "metadata": {},
   "outputs": [],
   "source": [
    "df = pd.read_csv('../../data/travel_full.csv')[['Date', 'Tags']]\n",
    "dates = df.Date.to_list()\n",
    "tags = df.Tags.to_list()\n",
    "dates.reverse()\n",
    "tags.reverse()"
   ]
  },
  {
   "cell_type": "code",
   "execution_count": 89,
   "metadata": {},
   "outputs": [
    {
     "name": "stdout",
     "output_type": "stream",
     "text": [
      "18 February, 2021 Hotels\n",
      "18 February, 2021 Quarantine\n",
      "18 February, 2021 Can I enter Canada\n",
      "18 February, 2021 Testing\n",
      "18 February, 2021 Restrictions or Requirements\n",
      "18 February, 2021 Design / content\n",
      "18 February, 2021 Provincial restrictions\n",
      "18 February, 2021 Other (Contact / Travel outside / ArriveCan / Mad people )\n",
      "2 March, 2021 nan\n",
      "4 April, 2021 Hotels,Testing\n",
      "16 April, 2021 Restrictions or Requirements,Can I enter Canada\n",
      "25 April, 2021 Hotels,Design / content\n"
     ]
    }
   ],
   "source": [
    "tag_set = set()\n",
    "for i, date in enumerate(dates):\n",
    "    tag = tags[i]\n",
    "    if tag not in tag_set:\n",
    "        print(date, tag)\n",
    "        tag_set.add(tag)\n",
    "    else:\n",
    "        continue"
   ]
  },
  {
   "cell_type": "code",
   "execution_count": null,
   "metadata": {},
   "outputs": [],
   "source": []
  }
 ],
 "metadata": {
  "kernelspec": {
   "display_name": "Python 3",
   "language": "python",
   "name": "python3"
  },
  "language_info": {
   "codemirror_mode": {
    "name": "ipython",
    "version": 3
   },
   "file_extension": ".py",
   "mimetype": "text/x-python",
   "name": "python",
   "nbconvert_exporter": "python",
   "pygments_lexer": "ipython3",
   "version": "3.8.3"
  }
 },
 "nbformat": 4,
 "nbformat_minor": 4
}

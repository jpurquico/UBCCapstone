{
 "cells": [
  {
   "cell_type": "markdown",
   "metadata": {},
   "source": [
    "## K-Means Clustering"
   ]
  },
  {
   "cell_type": "code",
   "execution_count": 1,
   "metadata": {},
   "outputs": [],
   "source": [
    "import numpy as np\n",
    "import pandas as pd\n",
    "import nltk\n",
    "from bs4 import BeautifulSoup\n",
    "import re\n",
    "import os\n",
    "import codecs\n",
    "from sklearn import feature_extraction\n",
    "#import mpld3"
   ]
  },
  {
   "cell_type": "code",
   "execution_count": 2,
   "metadata": {},
   "outputs": [
    {
     "data": {
      "text/html": [
       "<div>\n",
       "<style scoped>\n",
       "    .dataframe tbody tr th:only-of-type {\n",
       "        vertical-align: middle;\n",
       "    }\n",
       "\n",
       "    .dataframe tbody tr th {\n",
       "        vertical-align: top;\n",
       "    }\n",
       "\n",
       "    .dataframe thead th {\n",
       "        text-align: right;\n",
       "    }\n",
       "</style>\n",
       "<table border=\"1\" class=\"dataframe\">\n",
       "  <thead>\n",
       "    <tr style=\"text-align: right;\">\n",
       "      <th></th>\n",
       "      <th>Comment</th>\n",
       "      <th>Tags</th>\n",
       "      <th>old_Comment</th>\n",
       "    </tr>\n",
       "  </thead>\n",
       "  <tbody>\n",
       "    <tr>\n",
       "      <th>0</th>\n",
       "      <td>i want to see how_many of the current covid ca...</td>\n",
       "      <td>Data and tracking vaccines</td>\n",
       "      <td>i want to see how many of the current covid ca...</td>\n",
       "    </tr>\n",
       "    <tr>\n",
       "      <th>1</th>\n",
       "      <td>i wanted to know the number of deaths</td>\n",
       "      <td>Data and tracking vaccines</td>\n",
       "      <td>i wanted to know the number of deaths</td>\n",
       "    </tr>\n",
       "    <tr>\n",
       "      <th>2</th>\n",
       "      <td>are you_hiding the deaths_from vaccination ?</td>\n",
       "      <td>Data and tracking vaccines</td>\n",
       "      <td>are you hiding the deaths from vaccination ?</td>\n",
       "    </tr>\n",
       "    <tr>\n",
       "      <th>3</th>\n",
       "      <td>how come there are so few reported deaths in t...</td>\n",
       "      <td>Data and tracking vaccines</td>\n",
       "      <td>how come there are so few reported deaths in t...</td>\n",
       "    </tr>\n",
       "    <tr>\n",
       "      <th>4</th>\n",
       "      <td>each_province should state total vaccinations ...</td>\n",
       "      <td>Data and tracking vaccines</td>\n",
       "      <td>each province should state total vaccinations ...</td>\n",
       "    </tr>\n",
       "  </tbody>\n",
       "</table>\n",
       "</div>"
      ],
      "text/plain": [
       "                                             Comment  \\\n",
       "0  i want to see how_many of the current covid ca...   \n",
       "1              i wanted to know the number of deaths   \n",
       "2       are you_hiding the deaths_from vaccination ?   \n",
       "3  how come there are so few reported deaths in t...   \n",
       "4  each_province should state total vaccinations ...   \n",
       "\n",
       "                         Tags  \\\n",
       "0  Data and tracking vaccines   \n",
       "1  Data and tracking vaccines   \n",
       "2  Data and tracking vaccines   \n",
       "3  Data and tracking vaccines   \n",
       "4  Data and tracking vaccines   \n",
       "\n",
       "                                         old_Comment  \n",
       "0  i want to see how many of the current covid ca...  \n",
       "1              i wanted to know the number of deaths  \n",
       "2       are you hiding the deaths from vaccination ?  \n",
       "3  how come there are so few reported deaths in t...  \n",
       "4  each province should state total vaccinations ...  "
      ]
     },
     "execution_count": 2,
     "metadata": {},
     "output_type": "execute_result"
    }
   ],
   "source": [
    "full_df = pd.read_csv('linguistic_features/en_vaccine_sentiment_df')\n",
    "full_df.head()"
   ]
  },
  {
   "cell_type": "code",
   "execution_count": 3,
   "metadata": {},
   "outputs": [
    {
     "data": {
      "text/plain": [
       "17858"
      ]
     },
     "execution_count": 3,
     "metadata": {},
     "output_type": "execute_result"
    }
   ],
   "source": [
    "len(full_df)"
   ]
  },
  {
   "cell_type": "code",
   "execution_count": 4,
   "metadata": {},
   "outputs": [],
   "source": [
    "stopwords = nltk.corpus.stopwords.words('english')"
   ]
  },
  {
   "cell_type": "code",
   "execution_count": 5,
   "metadata": {},
   "outputs": [],
   "source": [
    "from nltk.stem.snowball import SnowballStemmer\n",
    "stemmer = SnowballStemmer(\"english\")"
   ]
  },
  {
   "cell_type": "code",
   "execution_count": 31,
   "metadata": {},
   "outputs": [],
   "source": [
    "def tokenize_and_stem(text):\n",
    "    # first tokenize by sentence, then by word to ensure that punctuation is caught as it's own token\n",
    "    tokens = [word for sent in nltk.sent_tokenize(text) for word in nltk.word_tokenize(sent)]\n",
    "    filtered_tokens = []\n",
    "    # filter out any tokens not containing letters (e.g., numeric tokens, raw punctuation)\n",
    "    for token in tokens:\n",
    "        if re.search('[a-zA-Z]', token):\n",
    "            filtered_tokens.append(token)\n",
    "    stems = [stemmer.stem(t) for t in filtered_tokens]\n",
    "    return stems\n",
    "\n",
    "\n",
    "def tokenize_only(text):\n",
    "    # first tokenize by sentence, then by word to ensure that punctuation is caught as it's own token\n",
    "    tokens = [word.lower() for sent in nltk.sent_tokenize(text) for word in nltk.word_tokenize(sent)]\n",
    "    filtered_tokens = []\n",
    "    # filter out any tokens not containing letters (e.g., numeric tokens, raw punctuation)\n",
    "    for token in tokens:\n",
    "        if re.search('[a-zA-Z]', token):\n",
    "            filtered_tokens.append(token)\n",
    "    return filtered_tokens"
   ]
  },
  {
   "cell_type": "code",
   "execution_count": 32,
   "metadata": {},
   "outputs": [],
   "source": [
    "comments = full_df.old_Comment.to_list()\n",
    "totalvocab_stemmed = []\n",
    "totalvocab_tokenized = []\n",
    "for i in comments:\n",
    "    allwords_stemmed = tokenize_and_stem(i)\n",
    "    totalvocab_stemmed.extend(allwords_stemmed)\n",
    "    \n",
    "    allwords_tokenized = tokenize_only(i)\n",
    "    totalvocab_tokenized.extend(allwords_tokenized)"
   ]
  },
  {
   "cell_type": "code",
   "execution_count": 33,
   "metadata": {},
   "outputs": [],
   "source": [
    "vocab_frame = pd.DataFrame({'words': totalvocab_tokenized}, index = totalvocab_stemmed)"
   ]
  },
  {
   "cell_type": "code",
   "execution_count": 34,
   "metadata": {},
   "outputs": [
    {
     "name": "stdout",
     "output_type": "stream",
     "text": [
      "Wall time: 0 ns\n"
     ]
    },
    {
     "name": "stderr",
     "output_type": "stream",
     "text": [
      "C:\\Users\\Jan\\miniconda3\\lib\\site-packages\\sklearn\\feature_extraction\\text.py:383: UserWarning: Your stop_words may be inconsistent with your preprocessing. Tokenizing the stop words generated tokens ['abov', 'afterward', 'alon', 'alreadi', 'alway', 'ani', 'anoth', 'anyon', 'anyth', 'anywher', 'becam', 'becaus', 'becom', 'befor', 'besid', 'cri', 'describ', 'dure', 'els', 'elsewher', 'empti', 'everi', 'everyon', 'everyth', 'everywher', 'fifti', 'forti', 'henc', 'hereaft', 'herebi', 'howev', 'hundr', 'inde', 'mani', 'meanwhil', 'moreov', 'nobodi', 'noon', 'noth', 'nowher', 'onc', 'onli', 'otherwis', 'ourselv', 'perhap', 'pleas', 'sever', 'sinc', 'sincer', 'sixti', 'someon', 'someth', 'sometim', 'somewher', 'themselv', 'thenc', 'thereaft', 'therebi', 'therefor', 'togeth', 'twelv', 'twenti', 'veri', 'whatev', 'whenc', 'whenev', 'wherea', 'whereaft', 'wherebi', 'wherev', 'whi', 'yourselv'] not in stop_words.\n",
      "  warnings.warn('Your stop_words may be inconsistent with '\n"
     ]
    },
    {
     "name": "stdout",
     "output_type": "stream",
     "text": [
      "(17858, 202683)\n"
     ]
    }
   ],
   "source": [
    "from sklearn.feature_extraction.text import TfidfVectorizer\n",
    "\n",
    "tfidf_vectorizer = TfidfVectorizer(stop_words='english',\n",
    "                                 use_idf=True, tokenizer=tokenize_and_stem, ngram_range=(2,4))\n",
    "\n",
    "%time \n",
    "\n",
    "tfidf_matrix = tfidf_vectorizer.fit_transform(full_df.old_Comment)\n",
    "\n",
    "print(tfidf_matrix.shape)"
   ]
  },
  {
   "cell_type": "code",
   "execution_count": 35,
   "metadata": {},
   "outputs": [],
   "source": [
    "terms = tfidf_vectorizer.get_feature_names()"
   ]
  },
  {
   "cell_type": "code",
   "execution_count": 36,
   "metadata": {},
   "outputs": [],
   "source": [
    "from sklearn.metrics.pairwise import cosine_similarity\n",
    "dist = 1 - cosine_similarity(tfidf_matrix)"
   ]
  },
  {
   "cell_type": "code",
   "execution_count": 104,
   "metadata": {},
   "outputs": [],
   "source": [
    "#kmeanses = []\n",
    "#for k in range(1,10):\n",
    "#    kmeanses.append(KMeans(n_clusters = k).fit(tfidf_matrix))"
   ]
  },
  {
   "cell_type": "code",
   "execution_count": 105,
   "metadata": {},
   "outputs": [
    {
     "data": {
      "text/plain": [
       "'\\nimport matplotlib.pyplot as plt\\nw=10\\nh=11\\ndef plot_elbow(kmeanses):\\n    plt.figure(figsize = (w,h))\\n    plt.axvline(x=5, linestyle=\\'-.\\', c=\"black\")\\n    plt.plot(range(1,10),[k.inertia_ for k in kmeanses], \\'-o\\');\\n    ax = plt.gca()\\n    ax.tick_params(\\'both\\', labelsize=(w+h)/2)\\n    ax.set_xlabel(\\'K\\', fontsize=w)\\n    ax.set_ylabel(\"Inertia\", fontsize=w)\\n\\nplot_elbow(kmeanses)\\n'"
      ]
     },
     "execution_count": 105,
     "metadata": {},
     "output_type": "execute_result"
    }
   ],
   "source": [
    "'''\n",
    "import matplotlib.pyplot as plt\n",
    "w=10\n",
    "h=11\n",
    "def plot_elbow(kmeanses):\n",
    "    plt.figure(figsize = (w,h))\n",
    "    plt.axvline(x=5, linestyle='-.', c=\"black\")\n",
    "    plt.plot(range(1,10),[k.inertia_ for k in kmeanses], '-o');\n",
    "    ax = plt.gca()\n",
    "    ax.tick_params('both', labelsize=(w+h)/2)\n",
    "    ax.set_xlabel('K', fontsize=w)\n",
    "    ax.set_ylabel(\"Inertia\", fontsize=w)\n",
    "\n",
    "plot_elbow(kmeanses)\n",
    "'''"
   ]
  },
  {
   "cell_type": "code",
   "execution_count": 37,
   "metadata": {},
   "outputs": [
    {
     "name": "stdout",
     "output_type": "stream",
     "text": [
      "Wall time: 53 s\n"
     ]
    }
   ],
   "source": [
    "from sklearn.cluster import KMeans\n",
    "\n",
    "num_clusters = 10\n",
    "\n",
    "km = KMeans(n_clusters=num_clusters)\n",
    "\n",
    "%time km.fit(tfidf_matrix)\n",
    "\n",
    "clusters = km.labels_.tolist()"
   ]
  },
  {
   "cell_type": "code",
   "execution_count": 38,
   "metadata": {},
   "outputs": [],
   "source": [
    "vaccine_df = {'comment': comments, 'cluster': clusters}\n",
    "\n",
    "clustered_df = pd.DataFrame(vaccine_df, index = [clusters] , columns = ['comment', 'cluster'])"
   ]
  },
  {
   "cell_type": "code",
   "execution_count": 161,
   "metadata": {},
   "outputs": [
    {
     "data": {
      "text/plain": [
       "Getting vaccinated - When / Where / What                                  4452\n",
       "Getting vaccinated - Registration / notifications                         3737\n",
       "Vaccine safety (health issues / ingredients / side effects / research)    2921\n",
       "Data and tracking vaccines                                                2779\n",
       "Vaccine effectiveness / delayed dosage                                    2136\n",
       "Vaccine strategy: Authorization / Eligibility / Priorities                 928\n",
       "Vaccines - Other                                                           799\n",
       "Life after vaccination                                                     106\n",
       "Name: Tags, dtype: int64"
      ]
     },
     "execution_count": 161,
     "metadata": {},
     "output_type": "execute_result"
    }
   ],
   "source": [
    "full_df['Tags'].value_counts()"
   ]
  },
  {
   "cell_type": "code",
   "execution_count": 39,
   "metadata": {},
   "outputs": [
    {
     "name": "stdout",
     "output_type": "stream",
     "text": [
      "Top terms per cluster:\n",
      "\n",
      "Cluster 0 words:{'book vaccin', 'year old', 'second shot', 'year old vaccin', 'age vaccin', 'appoint vaccin', 'sign vaccin', 'inform date', 'old vaccin', 'make appoint'}\n",
      "\n",
      "Cluster 1 words:{'regist vaccin', 'year old', 'moderna vaccin', 'vaccin covid', 'second shot', 'want know', 'receiv vaccin', 'know vaccin', 'second vaccin', 'second dose'}\n",
      "\n",
      "Cluster 2 words:{'use canada', 'differ vaccin use', 'type vaccin', 'type vaccin use', 'know vaccin use', 'vaccin use clinic', 'vaccin use site', 'use clinic', 'vaccin use canada', 'vaccin use'}\n",
      "\n",
      "Cluster 3 words:{'book appoint vaccin', 'tri book appoint', 'book appoint', 'want book appoint', 'appoint vaccin', 'appoint covid', 'book appoint covid', 'book appoint covid vaccin', 'want book', 'appoint covid vaccin'}\n",
      "\n",
      "Cluster 4 words:{'vaccin age', 'look age group', 'vaccin age group', 'age group elig', 'age group', 'group elig', 'know age', 'group vaccin', 'know age group', 'age group vaccin'}\n",
      "\n",
      "Cluster 5 words:{'dose astrazeneca vaccin', 'receiv astrazeneca vaccin', 'effect astrazeneca vaccin', 'dose astrazeneca', 'receiv astrazeneca', 'astrazeneca vaccin', 'effect astrazeneca', 'blood clot', 'inform astrazeneca vaccin', 'inform astrazeneca'}\n",
      "\n",
      "Cluster 6 words:{'book pfizer', 'second dose pfizer vaccin', 'effect pfizer vaccin', 'dose pfizer', 'book pfizer vaccin', 'pfizer vaccin', 'second dose pfizer', 'effect pfizer', 'dose pfizer vaccin', 'second dose'}\n",
      "\n",
      "Cluster 7 words:{'regist covid vaccin', 'receiv covid vaccin', 'covid vaccin', 'appoint covid', 'make appoint covid vaccin', 'receiv covid', 'regist covid', 'appoint covid vaccin', 'book covid vaccin', 'book covid'}\n",
      "\n",
      "Cluster 8 words:{'johnson johnson', 'johnson vaccin', 'johnson johnson vaccin avail', 'inform johnson johnson', 'info johnson johnson', 'inform johnson', 'inform johnson johnson vaccin', 'johnson vaccin avail', 'johnson johnson vaccin', 'vaccin avail'}\n",
      "\n",
      "Cluster 9 words:{'regist vaccin', 'vaccin covid', 'look regist vaccin', 'want regist', 'look regist', 'tri regist vaccin', 'regist vaccin covid', 'want regist vaccin', 'need regist', 'need regist vaccin'}\n",
      "\n"
     ]
    }
   ],
   "source": [
    "print(\"Top terms per cluster:\")\n",
    "print()\n",
    "order_centroids = km.cluster_centers_.argsort()[:, ::-1]\n",
    "for i in range(num_clusters):\n",
    "    print(\"Cluster %d words:\" % i, end='')\n",
    "    words = set()\n",
    "    for ind in order_centroids[i, :10]:\n",
    "        #print(' %s' % vocab_frame.loc[terms[ind].split(' ')].values.tolist()[0][0].encode('utf-8', 'ignore'), end=',')\n",
    "        #words.add(vocab_frame.loc[terms[ind].split(' ')].values.tolist()[0][0])\n",
    "        words.add(terms[ind])\n",
    "    print(words)\n",
    "    print()"
   ]
  },
  {
   "cell_type": "code",
   "execution_count": 40,
   "metadata": {},
   "outputs": [
    {
     "name": "stdout",
     "output_type": "stream",
     "text": [
      "Top terms per cluster:\n",
      "\n",
      "Cluster 0 words:{'bookings', 'sign', 'information', 'old', 'years', 'make'}\n",
      "\n",
      "Cluster 1 words:{'receiving', 'second', 'want', 'register', 'years'}\n",
      "\n",
      "Cluster 2 words:{'types', 'vaccine', 'different', 'know', 'used'}\n",
      "\n",
      "Cluster 3 words:{'appointment', 'bookings', 'want'}\n",
      "\n",
      "Cluster 4 words:{'age', 'vaccine', 'group'}\n",
      "\n",
      "Cluster 5 words:{'dose', 'receiving', 'astrazeneca', 'blood', 'information'}\n",
      "\n",
      "Cluster 6 words:{'effects', 'dose', 'second', 'pfizer'}\n",
      "\n",
      "Cluster 7 words:{'register', 'covid', 'bookings', 'appointment'}\n",
      "\n",
      "Cluster 8 words:{'johnson', 'information'}\n",
      "\n",
      "Cluster 9 words:{'register', 'need', 'vaccine', 'want'}\n",
      "\n"
     ]
    }
   ],
   "source": [
    "print(\"Top terms per cluster:\")\n",
    "print()\n",
    "order_centroids = km.cluster_centers_.argsort()[:, ::-1]\n",
    "for i in range(num_clusters):\n",
    "    print(\"Cluster %d words:\" % i, end='')\n",
    "    words = set()\n",
    "    for ind in order_centroids[i, :6]:\n",
    "        #print(' %s' % vocab_frame.loc[terms[ind].split(' ')].values.tolist()[0][0].encode('utf-8', 'ignore'), end=',')\n",
    "        words.add(vocab_frame.loc[terms[ind].split(' ')].values.tolist()[0][0])\n",
    "    print(words)\n",
    "    print()"
   ]
  },
  {
   "cell_type": "markdown",
   "metadata": {},
   "source": [
    "### Within Specific Tags"
   ]
  },
  {
   "cell_type": "code",
   "execution_count": 17,
   "metadata": {},
   "outputs": [],
   "source": [
    "vaccine_other = full_df[full_df['Tags']=='Getting vaccinated - When / Where / What']"
   ]
  },
  {
   "cell_type": "code",
   "execution_count": 18,
   "metadata": {},
   "outputs": [
    {
     "data": {
      "text/html": [
       "<div>\n",
       "<style scoped>\n",
       "    .dataframe tbody tr th:only-of-type {\n",
       "        vertical-align: middle;\n",
       "    }\n",
       "\n",
       "    .dataframe tbody tr th {\n",
       "        vertical-align: top;\n",
       "    }\n",
       "\n",
       "    .dataframe thead th {\n",
       "        text-align: right;\n",
       "    }\n",
       "</style>\n",
       "<table border=\"1\" class=\"dataframe\">\n",
       "  <thead>\n",
       "    <tr style=\"text-align: right;\">\n",
       "      <th></th>\n",
       "      <th>Comment</th>\n",
       "      <th>Tags</th>\n",
       "      <th>old_Comment</th>\n",
       "    </tr>\n",
       "  </thead>\n",
       "  <tbody>\n",
       "    <tr>\n",
       "      <th>6516</th>\n",
       "      <td>i got my shot at a pharmacy and they didn_t ha...</td>\n",
       "      <td>Getting vaccinated - When / Where / What</td>\n",
       "      <td>i got my shot at a pharmacy and they didn t ha...</td>\n",
       "    </tr>\n",
       "    <tr>\n",
       "      <th>6517</th>\n",
       "      <td>can t_find any info for second_shot availabili...</td>\n",
       "      <td>Getting vaccinated - When / Where / What</td>\n",
       "      <td>can t find any info for second shot availabili...</td>\n",
       "    </tr>\n",
       "    <tr>\n",
       "      <th>6518</th>\n",
       "      <td>when will the vaccines for bonavista be ready ...</td>\n",
       "      <td>Getting vaccinated - When / Where / What</td>\n",
       "      <td>when will the vaccines for bonavista be ready ...</td>\n",
       "    </tr>\n",
       "    <tr>\n",
       "      <th>6519</th>\n",
       "      <td>can i drink_alcohol after i get my vaccine shot</td>\n",
       "      <td>Getting vaccinated - When / Where / What</td>\n",
       "      <td>can i drink alcohol after i get my vaccine shot</td>\n",
       "    </tr>\n",
       "    <tr>\n",
       "      <th>6520</th>\n",
       "      <td>can i get vaccinated in a different town from ...</td>\n",
       "      <td>Getting vaccinated - When / Where / What</td>\n",
       "      <td>can i get vaccinated in a different town from ...</td>\n",
       "    </tr>\n",
       "  </tbody>\n",
       "</table>\n",
       "</div>"
      ],
      "text/plain": [
       "                                                Comment  \\\n",
       "6516  i got my shot at a pharmacy and they didn_t ha...   \n",
       "6517  can t_find any info for second_shot availabili...   \n",
       "6518  when will the vaccines for bonavista be ready ...   \n",
       "6519    can i drink_alcohol after i get my vaccine shot   \n",
       "6520  can i get vaccinated in a different town from ...   \n",
       "\n",
       "                                          Tags  \\\n",
       "6516  Getting vaccinated - When / Where / What   \n",
       "6517  Getting vaccinated - When / Where / What   \n",
       "6518  Getting vaccinated - When / Where / What   \n",
       "6519  Getting vaccinated - When / Where / What   \n",
       "6520  Getting vaccinated - When / Where / What   \n",
       "\n",
       "                                            old_Comment  \n",
       "6516  i got my shot at a pharmacy and they didn t ha...  \n",
       "6517  can t find any info for second shot availabili...  \n",
       "6518  when will the vaccines for bonavista be ready ...  \n",
       "6519    can i drink alcohol after i get my vaccine shot  \n",
       "6520  can i get vaccinated in a different town from ...  "
      ]
     },
     "execution_count": 18,
     "metadata": {},
     "output_type": "execute_result"
    }
   ],
   "source": [
    "vaccine_other.head()"
   ]
  },
  {
   "cell_type": "code",
   "execution_count": 19,
   "metadata": {},
   "outputs": [],
   "source": [
    "comments = vaccine_other.old_Comment.to_list()\n",
    "totalvocab_stemmed = []\n",
    "totalvocab_tokenized = []\n",
    "for i in comments:\n",
    "    allwords_stemmed = tokenize_and_stem(i)\n",
    "    totalvocab_stemmed.extend(allwords_stemmed)\n",
    "    \n",
    "    allwords_tokenized = tokenize_only(i)\n",
    "    totalvocab_tokenized.extend(allwords_tokenized)"
   ]
  },
  {
   "cell_type": "code",
   "execution_count": 20,
   "metadata": {},
   "outputs": [],
   "source": [
    "vocab_frame = pd.DataFrame({'words': totalvocab_tokenized}, index = totalvocab_stemmed)"
   ]
  },
  {
   "cell_type": "code",
   "execution_count": 26,
   "metadata": {},
   "outputs": [
    {
     "name": "stdout",
     "output_type": "stream",
     "text": [
      "Wall time: 0 ns\n",
      "(4452, 36012)\n"
     ]
    }
   ],
   "source": [
    "from sklearn.feature_extraction.text import TfidfVectorizer\n",
    "\n",
    "tfidf_vectorizer = TfidfVectorizer(stop_words='english',\n",
    "                                 use_idf=True, tokenizer=tokenize_only, ngram_range=(1,3))\n",
    "\n",
    "%time \n",
    "\n",
    "tfidf_matrix = tfidf_vectorizer.fit_transform(vaccine_other.old_Comment)\n",
    "\n",
    "print(tfidf_matrix.shape)"
   ]
  },
  {
   "cell_type": "code",
   "execution_count": 27,
   "metadata": {},
   "outputs": [],
   "source": [
    "terms = tfidf_vectorizer.get_feature_names()\n",
    "\n",
    "from sklearn.metrics.pairwise import cosine_similarity\n",
    "dist = 1 - cosine_similarity(tfidf_matrix)"
   ]
  },
  {
   "cell_type": "code",
   "execution_count": 28,
   "metadata": {},
   "outputs": [
    {
     "data": {
      "image/png": "[encoded data removed]",
      "text/plain": [
       "<Figure size 720x792 with 1 Axes>"
      ]
     },
     "metadata": {
      "needs_background": "light"
     },
     "output_type": "display_data"
    }
   ],
   "source": [
    "from sklearn.cluster import KMeans\n",
    "\n",
    "kmeanses = []\n",
    "for k in range(1,10):\n",
    "    kmeanses.append(KMeans(n_clusters = k).fit(tfidf_matrix))\n",
    "    \n",
    "import matplotlib.pyplot as plt\n",
    "w=10\n",
    "h=11\n",
    "def plot_elbow(kmeanses):\n",
    "    plt.figure(figsize = (w,h))\n",
    "    plt.axvline(x=5, linestyle='-.', c=\"black\")\n",
    "    plt.plot(range(1,10),[k.inertia_ for k in kmeanses], '-o');\n",
    "    ax = plt.gca()\n",
    "    ax.tick_params('both', labelsize=(w+h)/2)\n",
    "    ax.set_xlabel('K', fontsize=w)\n",
    "    ax.set_ylabel(\"Inertia\", fontsize=w)\n",
    "\n",
    "plot_elbow(kmeanses)"
   ]
  },
  {
   "cell_type": "code",
   "execution_count": 29,
   "metadata": {},
   "outputs": [
    {
     "name": "stdout",
     "output_type": "stream",
     "text": [
      "Wall time: 9.59 s\n"
     ]
    }
   ],
   "source": [
    "#from sklearn.cluster import KMeans\n",
    "\n",
    "num_clusters = 5\n",
    "\n",
    "km = KMeans(n_clusters=num_clusters)\n",
    "\n",
    "%time km.fit(tfidf_matrix)\n",
    "\n",
    "clusters = km.labels_.tolist()"
   ]
  },
  {
   "cell_type": "code",
   "execution_count": 30,
   "metadata": {},
   "outputs": [
    {
     "name": "stdout",
     "output_type": "stream",
     "text": [
      "Top terms per cluster:\n",
      "\n",
      "Cluster 0 words:{'dose', 'second', 'pfizer', 'age', 'vaccine', 'vaccination', 'old', 'covid vaccine', 'covid', 'vaccinated'}\n",
      "\n",
      "Cluster 1 words:{'second', 'pfizer', 'second shot', '2nd shot', 'vaccine', 'covid shot', 'shot', 'vaccine shot', 'shot second', 'second vaccine'}\n",
      "\n",
      "Cluster 2 words:{'year old vaccinated', 'old vaccinated', 'years old vaccinated', 'years old', 'looking vaccinated', 'people vaccinated', 'age vaccinated', 'old', 'years', 'vaccinated'}\n",
      "\n",
      "Cluster 3 words:{'know vaccine', 'want', 'want know vaccinated', 'want know', 'want know vaccine', 'vaccine', 'want know age', 'eligible', 'know', 'vaccinated'}\n",
      "\n",
      "Cluster 4 words:{'groups say grouos', 'vaccine', 'groups seniors plus', 'groups start', 'groups say', 'groups seniors', 'zyork region people', 'groups scheduling', 'groups started', 'groups scheduling vaccines'}\n",
      "\n"
     ]
    }
   ],
   "source": [
    "print(\"Top terms per cluster:\")\n",
    "print()\n",
    "order_centroids = km.cluster_centers_.argsort()[:, ::-1]\n",
    "for i in range(num_clusters):\n",
    "    print(\"Cluster %d words:\" % i, end='')\n",
    "    words = set()\n",
    "    for ind in order_centroids[i, :10]:\n",
    "        #print(' %s' % vocab_frame.loc[terms[ind].split(' ')].values.tolist()[0][0].encode('utf-8', 'ignore'), end=',')\n",
    "        #words.add(vocab_frame.loc[terms[ind].split(' ')].values.tolist()[0][0])\n",
    "        words.add(terms[ind])\n",
    "    print(words)\n",
    "    print()"
   ]
  },
  {
   "cell_type": "code",
   "execution_count": null,
   "metadata": {},
   "outputs": [],
   "source": []
  }
 ],
 "metadata": {
  "kernelspec": {
   "display_name": "Python 3",
   "language": "python",
   "name": "python3"
  },
  "language_info": {
   "codemirror_mode": {
    "name": "ipython",
    "version": 3
   },
   "file_extension": ".py",
   "mimetype": "text/x-python",
   "name": "python",
   "nbconvert_exporter": "python",
   "pygments_lexer": "ipython3",
   "version": "3.8.3"
  }
 },
 "nbformat": 4,
 "nbformat_minor": 4
}

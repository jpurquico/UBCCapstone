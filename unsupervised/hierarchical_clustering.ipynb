{
 "cells": [
  {
   "cell_type": "markdown",
   "metadata": {},
   "source": [
    "## Hierarchical Clustering for Topic Generation"
   ]
  },
  {
   "cell_type": "markdown",
   "metadata": {},
   "source": [
    "Hierarchical clustering is a type of unsupervised learning algorithm that forms clusters with a bottom up approach. This means that each data point starts as its own cluster and is grouped with others to form bigger clusters. An advantage of this over K-Means Clustering is that you do not need to specify a predefined number of clusters. However, because of this, hierarchical clustering is more computationally expensive. A reasonably sized sample taken from the full dataset should get around this issue."
   ]
  },
  {
   "cell_type": "code",
   "execution_count": 8,
   "metadata": {},
   "outputs": [],
   "source": [
    "import numpy as np\n",
    "import pandas as pd\n",
    "import nltk\n",
    "import re\n",
    "from re import sub\n",
    "import os\n",
    "import codecs\n",
    "import random\n",
    "import spacy\n",
    "\n",
    "from nltk.stem.snowball import SnowballStemmer\n",
    "from sklearn import feature_extraction\n",
    "from sklearn.feature_extraction.text import TfidfVectorizer\n",
    "from sklearn.metrics.pairwise import cosine_similarity\n",
    "\n",
    "from sklearn.cluster import AgglomerativeClustering\n",
    "\n",
    "import matplotlib.pyplot as plt\n",
    "from scipy.cluster.hierarchy import ward, dendrogram\n",
    "from matplotlib.pyplot import figure\n",
    "from collections import defaultdict\n",
    "\n",
    "from scipy.cluster.hierarchy import dendrogram, set_link_color_palette\n",
    "import seaborn as sns\n",
    "from matplotlib.colors import rgb2hex, colorConverter\n",
    "\n",
    "from common_modules import text_to_word_list"
   ]
  },
  {
   "cell_type": "markdown",
   "metadata": {},
   "source": [
    "### 1. Data Preprocessing"
   ]
  },
  {
   "cell_type": "markdown",
   "metadata": {},
   "source": [
    "To start, the data needs to be preprocessed. For this experiment, we are working with the vaccine data."
   ]
  },
  {
   "cell_type": "code",
   "execution_count": 9,
   "metadata": {},
   "outputs": [
    {
     "data": {
      "text/html": [
       "<div>\n",
       "<style scoped>\n",
       "    .dataframe tbody tr th:only-of-type {\n",
       "        vertical-align: middle;\n",
       "    }\n",
       "\n",
       "    .dataframe tbody tr th {\n",
       "        vertical-align: top;\n",
       "    }\n",
       "\n",
       "    .dataframe thead th {\n",
       "        text-align: right;\n",
       "    }\n",
       "</style>\n",
       "<table border=\"1\" class=\"dataframe\">\n",
       "  <thead>\n",
       "    <tr style=\"text-align: right;\">\n",
       "      <th></th>\n",
       "      <th>Unique ID</th>\n",
       "      <th>Date</th>\n",
       "      <th>URL</th>\n",
       "      <th>Page title</th>\n",
       "      <th>Comment</th>\n",
       "      <th>Tags</th>\n",
       "      <th>Refining details</th>\n",
       "      <th>Status</th>\n",
       "      <th>What's wrong</th>\n",
       "      <th>Lang</th>\n",
       "      <th>Tags confirmed</th>\n",
       "    </tr>\n",
       "  </thead>\n",
       "  <tbody>\n",
       "    <tr>\n",
       "      <th>0</th>\n",
       "      <td>60a063c82b6da5147c289783</td>\n",
       "      <td>16 May, 2021</td>\n",
       "      <td>travel.gc.ca/travel-covid/travel-restrictions/...</td>\n",
       "      <td>Flying to Canada: COVID-19 testing for travell...</td>\n",
       "      <td>Quero viajar de Portugal para a Inglaterra</td>\n",
       "      <td>Restrictions or Requirements</td>\n",
       "      <td>Travel outside Canada</td>\n",
       "      <td>New</td>\n",
       "      <td>Other reason</td>\n",
       "      <td>EN</td>\n",
       "      <td>checked</td>\n",
       "    </tr>\n",
       "    <tr>\n",
       "      <th>1</th>\n",
       "      <td>60a067a62b6da5147c28978d</td>\n",
       "      <td>16 May, 2021</td>\n",
       "      <td>travel.gc.ca/travel-covid</td>\n",
       "      <td>\"COVID-19: Travel, testing, quarantine and bor...</td>\n",
       "      <td>If one is cleared of all tests and given the o...</td>\n",
       "      <td>Quarantine</td>\n",
       "      <td>Have been vaccinated</td>\n",
       "      <td>New</td>\n",
       "      <td>NaN</td>\n",
       "      <td>EN</td>\n",
       "      <td>checked</td>\n",
       "    </tr>\n",
       "    <tr>\n",
       "      <th>2</th>\n",
       "      <td>60a06bde2b6da5147c289790</td>\n",
       "      <td>16 May, 2021</td>\n",
       "      <td>travel.gc.ca/travel-covid/travel-restrictions/...</td>\n",
       "      <td>Mandatory quarantine or isolation – Travel res...</td>\n",
       "      <td>Why if fully vaccinated would you need to quar...</td>\n",
       "      <td>Quarantine</td>\n",
       "      <td>Have been vaccinated</td>\n",
       "      <td>New</td>\n",
       "      <td>The information is hard to understand</td>\n",
       "      <td>EN</td>\n",
       "      <td>checked</td>\n",
       "    </tr>\n",
       "  </tbody>\n",
       "</table>\n",
       "</div>"
      ],
      "text/plain": [
       "                  Unique ID          Date  \\\n",
       "0  60a063c82b6da5147c289783  16 May, 2021   \n",
       "1  60a067a62b6da5147c28978d  16 May, 2021   \n",
       "2  60a06bde2b6da5147c289790  16 May, 2021   \n",
       "\n",
       "                                                 URL  \\\n",
       "0  travel.gc.ca/travel-covid/travel-restrictions/...   \n",
       "1                          travel.gc.ca/travel-covid   \n",
       "2  travel.gc.ca/travel-covid/travel-restrictions/...   \n",
       "\n",
       "                                          Page title  \\\n",
       "0  Flying to Canada: COVID-19 testing for travell...   \n",
       "1  \"COVID-19: Travel, testing, quarantine and bor...   \n",
       "2  Mandatory quarantine or isolation – Travel res...   \n",
       "\n",
       "                                             Comment  \\\n",
       "0        Quero viajar de Portugal para a Inglaterra    \n",
       "1  If one is cleared of all tests and given the o...   \n",
       "2  Why if fully vaccinated would you need to quar...   \n",
       "\n",
       "                           Tags       Refining details Status  \\\n",
       "0  Restrictions or Requirements  Travel outside Canada    New   \n",
       "1                    Quarantine   Have been vaccinated    New   \n",
       "2                    Quarantine   Have been vaccinated    New   \n",
       "\n",
       "                            What's wrong Lang Tags confirmed  \n",
       "0                           Other reason   EN        checked  \n",
       "1                                    NaN   EN        checked  \n",
       "2  The information is hard to understand   EN        checked  "
      ]
     },
     "execution_count": 9,
     "metadata": {},
     "output_type": "execute_result"
    }
   ],
   "source": [
    "full_df = pd.read_csv('../../data/travel_full.csv')\n",
    "full_df.head(3)"
   ]
  },
  {
   "cell_type": "markdown",
   "metadata": {},
   "source": [
    "Before clustering, we have to separate the English comments from the French comments. Then clean the comments by removing repeated punctuations, letters, etc."
   ]
  },
  {
   "cell_type": "code",
   "execution_count": 10,
   "metadata": {},
   "outputs": [],
   "source": [
    "## Filter languages\n",
    "en_df = full_df[full_df[\"Lang\"]=='EN']\n",
    "#fr_df = full_df[full_df[\"Lang\"]==\"FR\"]\n",
    "\n",
    "## Only keep Comments and Tags\n",
    "en_df = en_df[[\"Comment\", \"Tags\"]]\n",
    "#fr_df = fr_df[[\"Comment\", \"Tags\"]]"
   ]
  },
  {
   "cell_type": "code",
   "execution_count": 11,
   "metadata": {},
   "outputs": [
    {
     "data": {
      "text/html": [
       "<div>\n",
       "<style scoped>\n",
       "    .dataframe tbody tr th:only-of-type {\n",
       "        vertical-align: middle;\n",
       "    }\n",
       "\n",
       "    .dataframe tbody tr th {\n",
       "        vertical-align: top;\n",
       "    }\n",
       "\n",
       "    .dataframe thead th {\n",
       "        text-align: right;\n",
       "    }\n",
       "</style>\n",
       "<table border=\"1\" class=\"dataframe\">\n",
       "  <thead>\n",
       "    <tr style=\"text-align: right;\">\n",
       "      <th></th>\n",
       "      <th>Comment</th>\n",
       "      <th>Tags</th>\n",
       "    </tr>\n",
       "  </thead>\n",
       "  <tbody>\n",
       "    <tr>\n",
       "      <th>0</th>\n",
       "      <td>quero viajar de portugal para a inglaterra</td>\n",
       "      <td>Restrictions or Requirements</td>\n",
       "    </tr>\n",
       "    <tr>\n",
       "      <th>1</th>\n",
       "      <td>if one is cleared of all tests and given the o...</td>\n",
       "      <td>Quarantine</td>\n",
       "    </tr>\n",
       "    <tr>\n",
       "      <th>2</th>\n",
       "      <td>why if fully vaccinated would you need to quar...</td>\n",
       "      <td>Quarantine</td>\n",
       "    </tr>\n",
       "    <tr>\n",
       "      <th>3</th>\n",
       "      <td>can i land in the us and cross border by car</td>\n",
       "      <td>Restrictions or Requirements</td>\n",
       "    </tr>\n",
       "    <tr>\n",
       "      <th>4</th>\n",
       "      <td>i m trying to figure out if i can quarantine o...</td>\n",
       "      <td>Quarantine</td>\n",
       "    </tr>\n",
       "  </tbody>\n",
       "</table>\n",
       "</div>"
      ],
      "text/plain": [
       "                                             Comment  \\\n",
       "0         quero viajar de portugal para a inglaterra   \n",
       "1  if one is cleared of all tests and given the o...   \n",
       "2  why if fully vaccinated would you need to quar...   \n",
       "3       can i land in the us and cross border by car   \n",
       "4  i m trying to figure out if i can quarantine o...   \n",
       "\n",
       "                           Tags  \n",
       "0  Restrictions or Requirements  \n",
       "1                    Quarantine  \n",
       "2                    Quarantine  \n",
       "3  Restrictions or Requirements  \n",
       "4                    Quarantine  "
      ]
     },
     "execution_count": 11,
     "metadata": {},
     "output_type": "execute_result"
    }
   ],
   "source": [
    "cleaned_df = en_df.copy()\n",
    "cleaned_df.Comment = cleaned_df.Comment.apply(lambda x: text_to_word_list(x))\n",
    "cleaned_df.Comment = cleaned_df.Comment.str.join(' ')\n",
    "cleaned_df.head()"
   ]
  },
  {
   "cell_type": "markdown",
   "metadata": {},
   "source": [
    "After filtering by language, we can take a reasonably-sized sample. For this experiment, 10% of the full data should suffice. Random seed is 123."
   ]
  },
  {
   "cell_type": "code",
   "execution_count": 12,
   "metadata": {},
   "outputs": [],
   "source": [
    "sample_df = cleaned_df.sample(int(0.1*len(cleaned_df)), random_state=123)"
   ]
  },
  {
   "cell_type": "code",
   "execution_count": 13,
   "metadata": {},
   "outputs": [
    {
     "data": {
      "text/html": [
       "<div>\n",
       "<style scoped>\n",
       "    .dataframe tbody tr th:only-of-type {\n",
       "        vertical-align: middle;\n",
       "    }\n",
       "\n",
       "    .dataframe tbody tr th {\n",
       "        vertical-align: top;\n",
       "    }\n",
       "\n",
       "    .dataframe thead th {\n",
       "        text-align: right;\n",
       "    }\n",
       "</style>\n",
       "<table border=\"1\" class=\"dataframe\">\n",
       "  <thead>\n",
       "    <tr style=\"text-align: right;\">\n",
       "      <th></th>\n",
       "      <th>Comment</th>\n",
       "      <th>Tags</th>\n",
       "    </tr>\n",
       "  </thead>\n",
       "  <tbody>\n",
       "    <tr>\n",
       "      <th>2257</th>\n",
       "      <td>what if travelers are fully vaccinated ?</td>\n",
       "      <td>Restrictions or Requirements</td>\n",
       "    </tr>\n",
       "    <tr>\n",
       "      <th>7293</th>\n",
       "      <td>in order to be able to sell our property it is...</td>\n",
       "      <td>Can I enter Canada</td>\n",
       "    </tr>\n",
       "    <tr>\n",
       "      <th>1712</th>\n",
       "      <td>enforcement</td>\n",
       "      <td>Restrictions or Requirements</td>\n",
       "    </tr>\n",
       "    <tr>\n",
       "      <th>7692</th>\n",
       "      <td>i am a truck driver will be taking a load from...</td>\n",
       "      <td>Restrictions or Requirements</td>\n",
       "    </tr>\n",
       "    <tr>\n",
       "      <th>12391</th>\n",
       "      <td>what about new permanent resident</td>\n",
       "      <td>Restrictions or Requirements</td>\n",
       "    </tr>\n",
       "  </tbody>\n",
       "</table>\n",
       "</div>"
      ],
      "text/plain": [
       "                                                 Comment  \\\n",
       "2257            what if travelers are fully vaccinated ?   \n",
       "7293   in order to be able to sell our property it is...   \n",
       "1712                                         enforcement   \n",
       "7692   i am a truck driver will be taking a load from...   \n",
       "12391                  what about new permanent resident   \n",
       "\n",
       "                               Tags  \n",
       "2257   Restrictions or Requirements  \n",
       "7293             Can I enter Canada  \n",
       "1712   Restrictions or Requirements  \n",
       "7692   Restrictions or Requirements  \n",
       "12391  Restrictions or Requirements  "
      ]
     },
     "execution_count": 13,
     "metadata": {},
     "output_type": "execute_result"
    }
   ],
   "source": [
    "sample_df.head()"
   ]
  },
  {
   "cell_type": "code",
   "execution_count": 14,
   "metadata": {},
   "outputs": [
    {
     "data": {
      "text/plain": [
       "Restrictions or Requirements                                  2659\n",
       "Hotels                                                        2517\n",
       "Can I enter Canada                                            2097\n",
       "Quarantine                                                    1567\n",
       "Testing                                                       1250\n",
       "Provincial restrictions                                        928\n",
       "Design / content                                               729\n",
       "Other (Contact / Travel outside / ArriveCan / Mad people )     711\n",
       "Hotels,Design / content                                          1\n",
       "Hotels,Testing                                                   1\n",
       "Restrictions or Requirements,Can I enter Canada                  1\n",
       "Name: Tags, dtype: int64"
      ]
     },
     "execution_count": 14,
     "metadata": {},
     "output_type": "execute_result"
    }
   ],
   "source": [
    "cleaned_df['Tags'].value_counts()"
   ]
  },
  {
   "cell_type": "code",
   "execution_count": 15,
   "metadata": {},
   "outputs": [
    {
     "data": {
      "text/plain": [
       "Hotels                                                        269\n",
       "Restrictions or Requirements                                  240\n",
       "Can I enter Canada                                            222\n",
       "Quarantine                                                    179\n",
       "Testing                                                       115\n",
       "Provincial restrictions                                        87\n",
       "Design / content                                               68\n",
       "Other (Contact / Travel outside / ArriveCan / Mad people )     66\n",
       "Name: Tags, dtype: int64"
      ]
     },
     "execution_count": 15,
     "metadata": {},
     "output_type": "execute_result"
    }
   ],
   "source": [
    "sample_df['Tags'].value_counts()"
   ]
  },
  {
   "cell_type": "markdown",
   "metadata": {},
   "source": [
    "## 2. Hierarchical Clustering\n",
    "Inspired by Brandon Rose's work on [movie clustering](http://brandonrose.org/clustering)"
   ]
  },
  {
   "cell_type": "markdown",
   "metadata": {},
   "source": [
    "### 2.a. Tokenizing and Stemming\n",
    "Before clustering, we have to tokenize and stem the comments. Tokenizing is just a way of splitting sentences into individual words, and stemming is the process of breaking words down to their core. This is needed to group the same words with different spellings together. For example, \"vaccine\", \"vaccines\" and \"vaccination\" all have \"vaccin\" as their stem."
   ]
  },
  {
   "cell_type": "code",
   "execution_count": 16,
   "metadata": {},
   "outputs": [],
   "source": [
    "stemmer = SnowballStemmer(\"english\")\n",
    "\n",
    "def tokenize_plus_stem(text, stem=True):\n",
    "    '''tokenize the comments then stem them if stem is true. Otherwise, just return the tokenized comments. \n",
    "    Based on the function of Brandon Rose in http://brandonrose.org/clustering'''\n",
    "    # first tokenize by sentence, then by word to ensure that punctuation is caught as it's own token\n",
    "    tokens = [word for sent in nltk.sent_tokenize(text) for word in nltk.word_tokenize(sent)]\n",
    "    filtered_tokens = []\n",
    "    # filter out any tokens not containing letters (e.g., numeric tokens, raw punctuation)\n",
    "    for token in tokens:\n",
    "        if re.search('[a-zA-Z]', token):\n",
    "            filtered_tokens.append(token)\n",
    "            \n",
    "    if stem:\n",
    "        stems = [stemmer.stem(t) for t in filtered_tokens]\n",
    "        return stems\n",
    "    else:\n",
    "        return filtered_tokens"
   ]
  },
  {
   "cell_type": "markdown",
   "metadata": {},
   "source": [
    "Now that we have a tokenizer and stemmer function. We can create a lookup table that can cross-reference tokenized and stemmed words."
   ]
  },
  {
   "cell_type": "code",
   "execution_count": 17,
   "metadata": {},
   "outputs": [],
   "source": [
    "comments = sample_df.Comment.to_list()\n",
    "tags = sample_df.Tags.to_list()\n",
    "idx = sample_df.index.to_list()\n",
    "vocab_stemmed = []\n",
    "vocab_tokenized = []\n",
    "for i in comments:\n",
    "    words_stemmed = tokenize_plus_stem(i)\n",
    "    vocab_stemmed.extend(words_stemmed)\n",
    "    \n",
    "    words_tokenized = tokenize_plus_stem(i, stem=False)\n",
    "    vocab_tokenized.extend(words_tokenized)"
   ]
  },
  {
   "cell_type": "code",
   "execution_count": 18,
   "metadata": {},
   "outputs": [],
   "source": [
    "idx2comment = {}\n",
    "idx2tag = {}\n",
    "for i, comment in enumerate(comments):\n",
    "    index = idx[i]\n",
    "    tag = tags[i]\n",
    "    idx2comment[index] = comment\n",
    "    idx2tag[index] = tag"
   ]
  },
  {
   "cell_type": "code",
   "execution_count": 19,
   "metadata": {},
   "outputs": [],
   "source": [
    "vocab_frame = pd.DataFrame({'words': vocab_tokenized}, index = vocab_stemmed)"
   ]
  },
  {
   "cell_type": "markdown",
   "metadata": {},
   "source": [
    "### 2.b. TF-IDF Vectorization\n",
    "\n",
    "Term frequency-Inverse document frequency (Tf-Idf) is a way to measure word relevance in a text. Each word is assigned a weight based on its frequency in individual comments and the whole corpus."
   ]
  },
  {
   "cell_type": "code",
   "execution_count": 20,
   "metadata": {},
   "outputs": [],
   "source": [
    "tfidf_vectorizer = TfidfVectorizer(stop_words='english', tokenizer=tokenize_plus_stem, ngram_range=(2,3))"
   ]
  },
  {
   "cell_type": "code",
   "execution_count": 21,
   "metadata": {},
   "outputs": [
    {
     "name": "stderr",
     "output_type": "stream",
     "text": [
      "C:\\Users\\Jan\\miniconda3\\lib\\site-packages\\sklearn\\feature_extraction\\text.py:383: UserWarning: Your stop_words may be inconsistent with your preprocessing. Tokenizing the stop words generated tokens ['abov', 'afterward', 'alon', 'alreadi', 'alway', 'ani', 'anoth', 'anyon', 'anyth', 'anywher', 'becam', 'becaus', 'becom', 'befor', 'besid', 'cri', 'describ', 'dure', 'els', 'elsewher', 'empti', 'everi', 'everyon', 'everyth', 'everywher', 'fifti', 'forti', 'henc', 'hereaft', 'herebi', 'howev', 'hundr', 'inde', 'mani', 'meanwhil', 'moreov', 'nobodi', 'noon', 'noth', 'nowher', 'onc', 'onli', 'otherwis', 'ourselv', 'perhap', 'pleas', 'sever', 'sinc', 'sincer', 'sixti', 'someon', 'someth', 'sometim', 'somewher', 'themselv', 'thenc', 'thereaft', 'therebi', 'therefor', 'togeth', 'twelv', 'twenti', 'veri', 'whatev', 'whenc', 'whenev', 'wherea', 'whereaft', 'wherebi', 'wherev', 'whi', 'yourselv'] not in stop_words.\n",
      "  warnings.warn('Your stop_words may be inconsistent with '\n"
     ]
    },
    {
     "name": "stdout",
     "output_type": "stream",
     "text": [
      "(1246, 15681)\n",
      "Wall time: 569 ms\n"
     ]
    }
   ],
   "source": [
    "%%time\n",
    "tfidf_matrix = tfidf_vectorizer.fit_transform(sample_df.Comment)\n",
    "\n",
    "print(tfidf_matrix.shape)"
   ]
  },
  {
   "cell_type": "markdown",
   "metadata": {},
   "source": [
    "Let's look at some features for our model."
   ]
  },
  {
   "cell_type": "code",
   "execution_count": 22,
   "metadata": {},
   "outputs": [
    {
     "data": {
      "text/plain": [
       "['aug27 returnign sept',\n",
       " 'august make',\n",
       " 'august make use',\n",
       " 'august trip',\n",
       " 'august trip bc',\n",
       " 'aunt cousion',\n",
       " 'aunt cousion brother',\n",
       " 'aunt die',\n",
       " 'aunt die year',\n",
       " 'author broken']"
      ]
     },
     "execution_count": 22,
     "metadata": {},
     "output_type": "execute_result"
    }
   ],
   "source": [
    "features = tfidf_vectorizer.get_feature_names()\n",
    "features[1000:1010]"
   ]
  },
  {
   "cell_type": "markdown",
   "metadata": {},
   "source": [
    "After vectorizing, we compute for the cosine similarity of each of the features which we will then feed to the hierarchical clustering model."
   ]
  },
  {
   "cell_type": "code",
   "execution_count": 23,
   "metadata": {},
   "outputs": [],
   "source": [
    "distance = 1 - cosine_similarity(tfidf_matrix)"
   ]
  },
  {
   "cell_type": "markdown",
   "metadata": {},
   "source": [
    "### 2.c. Clustering"
   ]
  },
  {
   "cell_type": "code",
   "execution_count": 24,
   "metadata": {},
   "outputs": [
    {
     "name": "stdout",
     "output_type": "stream",
     "text": [
      "Wall time: 1.12 s\n"
     ]
    },
    {
     "data": {
      "text/plain": [
       "AgglomerativeClustering(distance_threshold=0, n_clusters=None)"
      ]
     },
     "execution_count": 24,
     "metadata": {},
     "output_type": "execute_result"
    }
   ],
   "source": [
    "%%time\n",
    "agglo = AgglomerativeClustering(distance_threshold=0, n_clusters=None,linkage='ward')\n",
    "agglo.fit(distance)"
   ]
  },
  {
   "cell_type": "code",
   "execution_count": 25,
   "metadata": {},
   "outputs": [],
   "source": [
    "counts = np.zeros(agglo.children_.shape[0])\n",
    "n_samples = len(agglo.labels_)\n",
    "for i, merge in enumerate(agglo.children_):\n",
    "    current_count = 0\n",
    "    for child_idx in merge:\n",
    "        if child_idx < n_samples:\n",
    "            current_count += 1  # leaf node\n",
    "        else:\n",
    "            current_count += counts[child_idx - n_samples]\n",
    "    counts[i] = current_count\n",
    "        \n",
    "linkage_matrix = np.column_stack([agglo.children_, agglo.distances_, counts]).astype(float)"
   ]
  },
  {
   "cell_type": "code",
   "execution_count": 26,
   "metadata": {},
   "outputs": [
    {
     "data": {
      "image/png": "[encoded data removed]",
      "text/plain": [
       "<Figure size 1280x1120 with 1 Axes>"
      ]
     },
     "metadata": {
      "needs_background": "light"
     },
     "output_type": "display_data"
    }
   ],
   "source": [
    "figure(figsize=(16, 14), dpi=80)\n",
    "den = dendrogram(linkage_matrix, truncate_mode='level',p=20, color_threshold = 0.5*max(linkage_matrix[:,2]), orientation='right', labels=idx)"
   ]
  },
  {
   "cell_type": "markdown",
   "metadata": {},
   "source": [
    "## 3. Reading the Dendrogram\n",
    "Based on [this](https://nbviewer.jupyter.org/gist/vals/150ec97a5b7db9c82ee9) tutorial.\n",
    "\n",
    "Because a dendrogram with thousands of rows of text is virtually unreadable. We can neatly group the comments together in a list form."
   ]
  },
  {
   "cell_type": "code",
   "execution_count": 27,
   "metadata": {},
   "outputs": [],
   "source": [
    "cluster_idxs = defaultdict(list)\n",
    "for c, pi in zip(den['color_list'], den['icoord']):\n",
    "    for leg in pi[1:3]:\n",
    "        i = (leg - 5.0) / 10.0\n",
    "        if abs(i - int(i)) < 1e-5:\n",
    "            cluster_idxs[c].append(int(i))"
   ]
  },
  {
   "cell_type": "code",
   "execution_count": 28,
   "metadata": {},
   "outputs": [],
   "source": [
    "class Clusters(dict):\n",
    "    def _repr_html_(self):\n",
    "        html = '<table style=\"border: 0;\">'\n",
    "        for c in self:\n",
    "            hx = rgb2hex(colorConverter.to_rgb(c))\n",
    "            html += '<tr style=\"border: 0;\">' \\\n",
    "            '<td style=\"background-color: {0}; ' \\\n",
    "                       'border: 0;\">' \\\n",
    "            '<code style=\"background-color: {0};\">'.format(hx)\n",
    "            html += c + '</code></td>'\n",
    "            html += '<td style=\"border: 0\"><code>' \n",
    "            html += repr(self[c]) + '</code>'\n",
    "            html += '</td></tr>'\n",
    "        \n",
    "        html += '</table>'\n",
    "        \n",
    "        return html"
   ]
  },
  {
   "cell_type": "code",
   "execution_count": 29,
   "metadata": {},
   "outputs": [],
   "source": [
    "def get_cluster_classes(den, label='ivl'):\n",
    "    cluster_idxs = defaultdict(list)\n",
    "    for c, pi in zip(den['color_list'], den['icoord']):\n",
    "        for leg in pi[1:3]:\n",
    "            i = (leg - 5.0) / 10.0\n",
    "            if abs(i - int(i)) < 1e-5:\n",
    "                cluster_idxs[c].append(int(i))\n",
    "    \n",
    "    cluster_classes = Clusters()\n",
    "    for c, l in cluster_idxs.items():\n",
    "        i_l = [den[label][i] for i in l]\n",
    "        cluster_classes[c] = i_l\n",
    "    \n",
    "    return cluster_classes"
   ]
  },
  {
   "cell_type": "code",
   "execution_count": 30,
   "metadata": {},
   "outputs": [
    {
     "data": {
      "text/html": [
       "<table style=\"border: 0;\"><tr style=\"border: 0;\"><td style=\"background-color: #ff7f0e; border: 0;\"><code style=\"background-color: #ff7f0e;\">C1</code></td><td style=\"border: 0\"><code>[6232, 452, 12231, 6768, 1778, 9210, 4449, 9769, 3529, 10503, 9635, 3755, 8535, 6040, 9849, 3523, 11626, 524, 2833, 12, 8619, 9816, 2237, 5904, 9031, 9080, 4482, 3627, 12986, 5146, 11325, 11042, 3675, 9453, 9990, 2474, 4775, 8629]</code></td></tr><tr style=\"border: 0;\"><td style=\"background-color: #2ca02c; border: 0;\"><code style=\"background-color: #2ca02c;\">C2</code></td><td style=\"border: 0\"><code>[3023, 11519, 11770, 9463, 7739, 7145, 5759, 12545, 11113, 6630, 6949, 8722, 3495, 4186, 4812, 4887, 6796, 13229, 2606, 1396, 1692, 10160, 8005, 11892, 954, 11154, 11124, 5524, 12573, 3722, 6732, 9022, 1896, 457, 1908, 12131, 5855, 11432, 12225, 2822, 6588, 5468, 12270, 11474, 8199, 319, 2653, 3680, 2648, 13049, 1271, 12852, 12718, 4092, 5505, 12827, 12823, 1376, 9439, 13253, 9846]</code></td></tr><tr style=\"border: 0;\"><td style=\"background-color: #d62728; border: 0;\"><code style=\"background-color: #d62728;\">C3</code></td><td style=\"border: 0\"><code>[10622, 3322, 12842, 10472, 3858, 540, 6684, 6859, 3323, 11111, 11446, 10215, 9300, 10977, 5816, 7579, 13061, 8991, 12372, 2884, 6935, 12144, 12759, 10592, 6871, 10960, 9806, 2296, 6181, 1336, 12524, 4579, 4515, 3202, 7339, 8240, 7695, 2984, 845, 8225, 1250, 6392, 12533, 8372, 9053, 1335, 3058, 7103, 13221, 10918, 10671, 4219, 6648, 270, 1879, 10758, 7703, 8026, 7207, 10387, 7703, 9568, 12503, 6025, 10884, 1309, 12767, 3127, 11053, 6380, 5065, 10710, 4408, 10033, 2907, 1907, 2722, 9459, '(2)', 11848, 5332, 2740, 2852, 8688, 5082, 2431, 3508, 4043, 8512, 9197, 9417, 2014, 10865, 12792, '(4)', '(14)', '(2)', '(822)']</code></td></tr><tr style=\"border: 0;\"><td style=\"background-color: #9467bd; border: 0;\"><code style=\"background-color: #9467bd;\">C4</code></td><td style=\"border: 0\"><code>[8414, 7847, 9165, 12780, 10642, 6321, 5282, 12512, 3852, 4841, 10496, 8263, 8326, 13140, 8115, 12488, 2901, 7153, 6222, 3498, 7700, 3914, 279, 10237, 7146, 3410, 3928, 3907, 1172, 7768, 2931, 3883, 4082, 738, 11649, 8587, 7586, 6764, 8286, 6536, 6472, 1333, 10223, 7936]</code></td></tr><tr style=\"border: 0;\"><td style=\"background-color: #8c564b; border: 0;\"><code style=\"background-color: #8c564b;\">C5</code></td><td style=\"border: 0\"><code>[6020, 6015, 805, 9869, 6304, 10911, 6451, 11580, 10, 10885, 8574, 4970, 10241, 981, 5208, 10540, 5997, 8483, 2468, 10024, 12869, 918, 13129, 1748, 12997, 4626, 11793, 3904, 4411, 4304, 11546, 6556, 12857, 2343, 10535, 4760, 12258, 797, 8067, 9167, 5568, 12294, '(2)', '(3)', 7656, 5429, 8844, 8046, 221, 12316, 5364, 1205, 10285, 7411, 812, 11345, 9938, 10921, 10556, 2257, 5924, 5615, 5496, 6425, 8092, 11707, 6468, 9884, 10277, 7060]</code></td></tr><tr style=\"border: 0;\"><td style=\"background-color: #e377c2; border: 0;\"><code style=\"background-color: #e377c2;\">C6</code></td><td style=\"border: 0\"><code>[6795, 1126, 8254, 4571, 6577, 666, 5601, 558, 11937, 2679, 7595, 958, 11324, 539, 8238, 6855, 7226, 11468, 3629, 8769, 8784, 5681, 7872, 3142, 5467, 1898, 4836, 6720, 5646, 4205, 7467, 7430, 542, 11093, 6041, 7794, 9627, 11020, 12166, 3855, 8462, 11169]</code></td></tr><tr style=\"border: 0;\"><td style=\"background-color: #7f7f7f; border: 0;\"><code style=\"background-color: #7f7f7f;\">C7</code></td><td style=\"border: 0\"><code>[7945, 8894, 8958, 5133, 8417, 10529, 9446, 3844, 6461, 10702, 6513, 281, 10766, 4859, 10544, 974, 5462, 10162, 2933, 10480, 2055, 7711, 808, 1099, 13180, 12220, 13078, 1066, 11739, 3101, 8938, 130, 1289, 8607, 12862, 1499, 11486, 11667, 12179, 3537, 11419, 5002, 4453, 8319]</code></td></tr><tr style=\"border: 0;\"><td style=\"background-color: #bcbd22; border: 0;\"><code style=\"background-color: #bcbd22;\">C8</code></td><td style=\"border: 0\"><code>[4373, 12710, 1074, 1903, 11629]</code></td></tr><tr style=\"border: 0;\"><td style=\"background-color: #17becf; border: 0;\"><code style=\"background-color: #17becf;\">C9</code></td><td style=\"border: 0\"><code>[6098, 8617, 4910]</code></td></tr><tr style=\"border: 0;\"><td style=\"background-color: #1f77b4; border: 0;\"><code style=\"background-color: #1f77b4;\">C0</code></td><td style=\"border: 0\"><code>[11419]</code></td></tr></table>"
      ],
      "text/plain": [
       "{'C1': [6232,\n",
       "  452,\n",
       "  12231,\n",
       "  6768,\n",
       "  1778,\n",
       "  9210,\n",
       "  4449,\n",
       "  9769,\n",
       "  3529,\n",
       "  10503,\n",
       "  9635,\n",
       "  3755,\n",
       "  8535,\n",
       "  6040,\n",
       "  9849,\n",
       "  3523,\n",
       "  11626,\n",
       "  524,\n",
       "  2833,\n",
       "  12,\n",
       "  8619,\n",
       "  9816,\n",
       "  2237,\n",
       "  5904,\n",
       "  9031,\n",
       "  9080,\n",
       "  4482,\n",
       "  3627,\n",
       "  12986,\n",
       "  5146,\n",
       "  11325,\n",
       "  11042,\n",
       "  3675,\n",
       "  9453,\n",
       "  9990,\n",
       "  2474,\n",
       "  4775,\n",
       "  8629],\n",
       " 'C2': [3023,\n",
       "  11519,\n",
       "  11770,\n",
       "  9463,\n",
       "  7739,\n",
       "  7145,\n",
       "  5759,\n",
       "  12545,\n",
       "  11113,\n",
       "  6630,\n",
       "  6949,\n",
       "  8722,\n",
       "  3495,\n",
       "  4186,\n",
       "  4812,\n",
       "  4887,\n",
       "  6796,\n",
       "  13229,\n",
       "  2606,\n",
       "  1396,\n",
       "  1692,\n",
       "  10160,\n",
       "  8005,\n",
       "  11892,\n",
       "  954,\n",
       "  11154,\n",
       "  11124,\n",
       "  5524,\n",
       "  12573,\n",
       "  3722,\n",
       "  6732,\n",
       "  9022,\n",
       "  1896,\n",
       "  457,\n",
       "  1908,\n",
       "  12131,\n",
       "  5855,\n",
       "  11432,\n",
       "  12225,\n",
       "  2822,\n",
       "  6588,\n",
       "  5468,\n",
       "  12270,\n",
       "  11474,\n",
       "  8199,\n",
       "  319,\n",
       "  2653,\n",
       "  3680,\n",
       "  2648,\n",
       "  13049,\n",
       "  1271,\n",
       "  12852,\n",
       "  12718,\n",
       "  4092,\n",
       "  5505,\n",
       "  12827,\n",
       "  12823,\n",
       "  1376,\n",
       "  9439,\n",
       "  13253,\n",
       "  9846],\n",
       " 'C3': [10622,\n",
       "  3322,\n",
       "  12842,\n",
       "  10472,\n",
       "  3858,\n",
       "  540,\n",
       "  6684,\n",
       "  6859,\n",
       "  3323,\n",
       "  11111,\n",
       "  11446,\n",
       "  10215,\n",
       "  9300,\n",
       "  10977,\n",
       "  5816,\n",
       "  7579,\n",
       "  13061,\n",
       "  8991,\n",
       "  12372,\n",
       "  2884,\n",
       "  6935,\n",
       "  12144,\n",
       "  12759,\n",
       "  10592,\n",
       "  6871,\n",
       "  10960,\n",
       "  9806,\n",
       "  2296,\n",
       "  6181,\n",
       "  1336,\n",
       "  12524,\n",
       "  4579,\n",
       "  4515,\n",
       "  3202,\n",
       "  7339,\n",
       "  8240,\n",
       "  7695,\n",
       "  2984,\n",
       "  845,\n",
       "  8225,\n",
       "  1250,\n",
       "  6392,\n",
       "  12533,\n",
       "  8372,\n",
       "  9053,\n",
       "  1335,\n",
       "  3058,\n",
       "  7103,\n",
       "  13221,\n",
       "  10918,\n",
       "  10671,\n",
       "  4219,\n",
       "  6648,\n",
       "  270,\n",
       "  1879,\n",
       "  10758,\n",
       "  7703,\n",
       "  8026,\n",
       "  7207,\n",
       "  10387,\n",
       "  7703,\n",
       "  9568,\n",
       "  12503,\n",
       "  6025,\n",
       "  10884,\n",
       "  1309,\n",
       "  12767,\n",
       "  3127,\n",
       "  11053,\n",
       "  6380,\n",
       "  5065,\n",
       "  10710,\n",
       "  4408,\n",
       "  10033,\n",
       "  2907,\n",
       "  1907,\n",
       "  2722,\n",
       "  9459,\n",
       "  '(2)',\n",
       "  11848,\n",
       "  5332,\n",
       "  2740,\n",
       "  2852,\n",
       "  8688,\n",
       "  5082,\n",
       "  2431,\n",
       "  3508,\n",
       "  4043,\n",
       "  8512,\n",
       "  9197,\n",
       "  9417,\n",
       "  2014,\n",
       "  10865,\n",
       "  12792,\n",
       "  '(4)',\n",
       "  '(14)',\n",
       "  '(2)',\n",
       "  '(822)'],\n",
       " 'C4': [8414,\n",
       "  7847,\n",
       "  9165,\n",
       "  12780,\n",
       "  10642,\n",
       "  6321,\n",
       "  5282,\n",
       "  12512,\n",
       "  3852,\n",
       "  4841,\n",
       "  10496,\n",
       "  8263,\n",
       "  8326,\n",
       "  13140,\n",
       "  8115,\n",
       "  12488,\n",
       "  2901,\n",
       "  7153,\n",
       "  6222,\n",
       "  3498,\n",
       "  7700,\n",
       "  3914,\n",
       "  279,\n",
       "  10237,\n",
       "  7146,\n",
       "  3410,\n",
       "  3928,\n",
       "  3907,\n",
       "  1172,\n",
       "  7768,\n",
       "  2931,\n",
       "  3883,\n",
       "  4082,\n",
       "  738,\n",
       "  11649,\n",
       "  8587,\n",
       "  7586,\n",
       "  6764,\n",
       "  8286,\n",
       "  6536,\n",
       "  6472,\n",
       "  1333,\n",
       "  10223,\n",
       "  7936],\n",
       " 'C5': [6020,\n",
       "  6015,\n",
       "  805,\n",
       "  9869,\n",
       "  6304,\n",
       "  10911,\n",
       "  6451,\n",
       "  11580,\n",
       "  10,\n",
       "  10885,\n",
       "  8574,\n",
       "  4970,\n",
       "  10241,\n",
       "  981,\n",
       "  5208,\n",
       "  10540,\n",
       "  5997,\n",
       "  8483,\n",
       "  2468,\n",
       "  10024,\n",
       "  12869,\n",
       "  918,\n",
       "  13129,\n",
       "  1748,\n",
       "  12997,\n",
       "  4626,\n",
       "  11793,\n",
       "  3904,\n",
       "  4411,\n",
       "  4304,\n",
       "  11546,\n",
       "  6556,\n",
       "  12857,\n",
       "  2343,\n",
       "  10535,\n",
       "  4760,\n",
       "  12258,\n",
       "  797,\n",
       "  8067,\n",
       "  9167,\n",
       "  5568,\n",
       "  12294,\n",
       "  '(2)',\n",
       "  '(3)',\n",
       "  7656,\n",
       "  5429,\n",
       "  8844,\n",
       "  8046,\n",
       "  221,\n",
       "  12316,\n",
       "  5364,\n",
       "  1205,\n",
       "  10285,\n",
       "  7411,\n",
       "  812,\n",
       "  11345,\n",
       "  9938,\n",
       "  10921,\n",
       "  10556,\n",
       "  2257,\n",
       "  5924,\n",
       "  5615,\n",
       "  5496,\n",
       "  6425,\n",
       "  8092,\n",
       "  11707,\n",
       "  6468,\n",
       "  9884,\n",
       "  10277,\n",
       "  7060],\n",
       " 'C6': [6795,\n",
       "  1126,\n",
       "  8254,\n",
       "  4571,\n",
       "  6577,\n",
       "  666,\n",
       "  5601,\n",
       "  558,\n",
       "  11937,\n",
       "  2679,\n",
       "  7595,\n",
       "  958,\n",
       "  11324,\n",
       "  539,\n",
       "  8238,\n",
       "  6855,\n",
       "  7226,\n",
       "  11468,\n",
       "  3629,\n",
       "  8769,\n",
       "  8784,\n",
       "  5681,\n",
       "  7872,\n",
       "  3142,\n",
       "  5467,\n",
       "  1898,\n",
       "  4836,\n",
       "  6720,\n",
       "  5646,\n",
       "  4205,\n",
       "  7467,\n",
       "  7430,\n",
       "  542,\n",
       "  11093,\n",
       "  6041,\n",
       "  7794,\n",
       "  9627,\n",
       "  11020,\n",
       "  12166,\n",
       "  3855,\n",
       "  8462,\n",
       "  11169],\n",
       " 'C7': [7945,\n",
       "  8894,\n",
       "  8958,\n",
       "  5133,\n",
       "  8417,\n",
       "  10529,\n",
       "  9446,\n",
       "  3844,\n",
       "  6461,\n",
       "  10702,\n",
       "  6513,\n",
       "  281,\n",
       "  10766,\n",
       "  4859,\n",
       "  10544,\n",
       "  974,\n",
       "  5462,\n",
       "  10162,\n",
       "  2933,\n",
       "  10480,\n",
       "  2055,\n",
       "  7711,\n",
       "  808,\n",
       "  1099,\n",
       "  13180,\n",
       "  12220,\n",
       "  13078,\n",
       "  1066,\n",
       "  11739,\n",
       "  3101,\n",
       "  8938,\n",
       "  130,\n",
       "  1289,\n",
       "  8607,\n",
       "  12862,\n",
       "  1499,\n",
       "  11486,\n",
       "  11667,\n",
       "  12179,\n",
       "  3537,\n",
       "  11419,\n",
       "  5002,\n",
       "  4453,\n",
       "  8319],\n",
       " 'C8': [4373, 12710, 1074, 1903, 11629],\n",
       " 'C9': [6098, 8617, 4910],\n",
       " 'C0': [11419]}"
      ]
     },
     "execution_count": 30,
     "metadata": {},
     "output_type": "execute_result"
    }
   ],
   "source": [
    "get_cluster_classes(den)"
   ]
  },
  {
   "cell_type": "markdown",
   "metadata": {},
   "source": [
    "## Tag Generation Experiment"
   ]
  },
  {
   "cell_type": "code",
   "execution_count": 31,
   "metadata": {},
   "outputs": [],
   "source": [
    "from collections import defaultdict, Counter\n",
    "import spacy\n",
    "nlp_en = spacy.load(\"en_core_web_sm\")\n",
    "#nlp_fr = spacy.load(\"fr_core_news_sm\")\n",
    "import nltk\n",
    "from nltk.util import ngrams\n",
    "from nltk.corpus import stopwords"
   ]
  },
  {
   "cell_type": "markdown",
   "metadata": {},
   "source": [
    "Now that we have our list of clusters we can find out if each cluster is homogenous or heterogeneous."
   ]
  },
  {
   "cell_type": "code",
   "execution_count": 32,
   "metadata": {},
   "outputs": [],
   "source": [
    "def detect_new_tag_clustering(cluster,threshold=0.6):\n",
    "    \"\"\"\n",
    "    This function determine whether the input cluster needs a new tag or not. \n",
    "    If percentage of the dominant tag is over shreshold hundredths, this cluster does not need a new tag.\n",
    "    If percentage of the dominant tag is below shreshold hundredths, this cluster needs a new tag.\n",
    "    \n",
    "    Parameters:\n",
    "    -----------\n",
    "        cluster: a list of tags in the cluster\n",
    "    \n",
    "    Return:\n",
    "    -----------\n",
    "        boolean: yes-this cluster needs a new tag;no-this cluster does not need a new tag\n",
    "    \"\"\"\n",
    "    counter_dict = defaultdict(int)\n",
    "    for tag in cluster:\n",
    "        counter_dict[tag]+=1\n",
    "    total = sum(list(counter_dict.values()))\n",
    "    tag_count_pairs = sorted(list(counter_dict.items()),key = lambda x: x[1],reverse=True)\n",
    "    if tag_count_pairs[0][1]/total>threshold:\n",
    "        return True\n",
    "    else:\n",
    "        return False"
   ]
  },
  {
   "cell_type": "markdown",
   "metadata": {},
   "source": [
    "Then, once we find a heterogeneous cluster, we want to generate some keywords for possible tags."
   ]
  },
  {
   "cell_type": "code",
   "execution_count": 33,
   "metadata": {},
   "outputs": [],
   "source": [
    "def generate_tag_candidates(comments, approach=\"NER\", langauge=\"English\", top=10):\n",
    "    \"\"\"\n",
    "    This function takes a list of comments/indices and generate a list of potential tags.\n",
    "    \n",
    "    Parameters:\n",
    "    -----------\n",
    "        comments: list of str\n",
    "        approach: define the approach to generate new tags. The default one is \"NER\". You can also use \"unigram\", \"bigram\". \n",
    "        langauge: English or French\n",
    "        top: return top 10(defalut) common entities\n",
    "    Return:\n",
    "    -----------\n",
    "        candidates: list of str\n",
    "    \"\"\"\n",
    "\n",
    "    if langauge==\"English\":\n",
    "        nlp = nlp_en\n",
    "    elif langauge==\"French\":\n",
    "        nlp = nlp_fr\n",
    "    \n",
    "    entity_counter_dict = defaultdict(int)\n",
    "    n_gram_counter_dict = defaultdict(int)\n",
    "    \n",
    "    if approach==\"NER\":\n",
    "        for comment in comments:\n",
    "            doc = nlp(comment)\n",
    "            for ent in doc.ents:\n",
    "                entity_counter_dict[ent.text] += 1\n",
    "            entity_count_pairs = sorted(list(entity_counter_dict.items()),key = lambda x: x[1],reverse=True)\n",
    "            return [ent for (ent, count) in entity_count_pairs[:top]]\n",
    "        \n",
    "    elif approach==\"bigram\" or approach==\"trigram\":\n",
    "        for comment in comments:\n",
    "            doc = nlp(comment)\n",
    "            tokens = [token.lemma_ for token in doc]\n",
    "            no_stopwords = [token for token in tokens if token not in stopwords.words('english')]\n",
    "            n=2 if approach==\"bigram\" else 3\n",
    "            n_grams = ngrams(no_stopwords, n)\n",
    "            for n_gram in n_grams:\n",
    "                n_gram_counter_dict[n_gram] += 1\n",
    "        n_gram_count_pairs = sorted(list(n_gram_counter_dict.items()), key = lambda x: x[1],reverse=True)\n",
    "        return [n_gram for (n_gram, count) in n_gram_count_pairs[:top]]\n",
    "    \n",
    "    elif approach==\"unigram\":\n",
    "        for comment in comments:\n",
    "            doc = nlp(comment)\n",
    "            tokens = [token.lemma_ for token in doc]\n",
    "            no_stopwords = [token for token in tokens if token not in stopwords.words('english')]\n",
    "            n=1\n",
    "            n_grams = ngrams(no_stopwords, n)\n",
    "            for n_gram in n_grams:\n",
    "                n_gram_counter_dict[n_gram] += 1\n",
    "        n_gram_count_pairs = sorted(list(n_gram_counter_dict.items()), key = lambda x: x[1],reverse=True)\n",
    "        return [n_gram for (n_gram, count) in n_gram_count_pairs[:top]]"
   ]
  },
  {
   "cell_type": "markdown",
   "metadata": {},
   "source": [
    "Looking at cluster #8, we see that it's heterogeneous and the keywords generate involve the words \"travel\", \"within\", \"canada\", \"want\", telling us that users are interested in knowing about domestic travel restrictions."
   ]
  },
  {
   "cell_type": "code",
   "execution_count": 45,
   "metadata": {},
   "outputs": [],
   "source": [
    "sample_cluster = [idx2tag[idx] for idx in get_cluster_classes(den)['C1'] if isinstance(idx,int)]\n",
    "tag_percentage = Counter(sample_cluster)\n",
    "for tag, count in tag_percentage.copy().items():\n",
    "    tag_percentage[tag] = round(count/len(sample_cluster), 2)"
   ]
  },
  {
   "cell_type": "code",
   "execution_count": 46,
   "metadata": {},
   "outputs": [
    {
     "data": {
      "text/plain": [
       "Counter({'Provincial restrictions': 0.29,\n",
       "         'Can I enter Canada': 0.37,\n",
       "         'Quarantine': 0.03,\n",
       "         'Restrictions or Requirements': 0.24,\n",
       "         'Hotels': 0.05,\n",
       "         'Testing': 0.03})"
      ]
     },
     "execution_count": 46,
     "metadata": {},
     "output_type": "execute_result"
    }
   ],
   "source": [
    "tag_percentage"
   ]
  },
  {
   "cell_type": "code",
   "execution_count": 41,
   "metadata": {},
   "outputs": [
    {
     "data": {
      "text/plain": [
       "False"
      ]
     },
     "execution_count": 41,
     "metadata": {},
     "output_type": "execute_result"
    }
   ],
   "source": [
    "detect_new_tag_clustering(sample_cluster)"
   ]
  },
  {
   "cell_type": "code",
   "execution_count": 43,
   "metadata": {},
   "outputs": [
    {
     "data": {
      "text/plain": [
       "[('travel', 'canada'),\n",
       " ('I', 'travel'),\n",
       " ('travel', 'within'),\n",
       " ('within', 'canada'),\n",
       " ('self', 'isolate'),\n",
       " ('canada', 'I'),\n",
       " ('want', 'travel'),\n",
       " ('canadian', 'citizen'),\n",
       " ('visit', 'parent'),\n",
       " ('isolate', 'I')]"
      ]
     },
     "execution_count": 43,
     "metadata": {},
     "output_type": "execute_result"
    }
   ],
   "source": [
    "sample_cluster_comments = [idx2comment[idx] for idx in get_cluster_classes(den)['C1'] if isinstance(idx,int)]\n",
    "generate_tag_candidates(sample_cluster_comments, approach='bigram', langauge=\"English\", top=10)"
   ]
  },
  {
   "cell_type": "code",
   "execution_count": 44,
   "metadata": {},
   "outputs": [
    {
     "data": {
      "text/plain": [
       "['travelling within canada',\n",
       " 'travel within canada',\n",
       " 'can a tourist travel though canada to alaska and back this summer ?',\n",
       " 'can i travel through canada to move to alaska ?',\n",
       " 'do i have to self isolate if i travel only in bc',\n",
       " 'do i need to self isolate when travelling within canada',\n",
       " 'do i need to self isolate when i return to ontario from bc ?',\n",
       " 'i m in new zealand i have visitor visa for canada can i travel to canada to meet my uncle aunt and cousion brother s',\n",
       " 'my sister is in canada so can i travel to canada',\n",
       " 'i am a us citizen who owns property in canada can i travel to inspect it']"
      ]
     },
     "execution_count": 44,
     "metadata": {},
     "output_type": "execute_result"
    }
   ],
   "source": [
    "sample_cluster_comments[:10]"
   ]
  },
  {
   "cell_type": "code",
   "execution_count": null,
   "metadata": {},
   "outputs": [],
   "source": []
  }
 ],
 "metadata": {
  "kernelspec": {
   "display_name": "Python 3",
   "language": "python",
   "name": "python3"
  },
  "language_info": {
   "codemirror_mode": {
    "name": "ipython",
    "version": 3
   },
   "file_extension": ".py",
   "mimetype": "text/x-python",
   "name": "python",
   "nbconvert_exporter": "python",
   "pygments_lexer": "ipython3",
   "version": "3.8.3"
  }
 },
 "nbformat": 4,
 "nbformat_minor": 4
}

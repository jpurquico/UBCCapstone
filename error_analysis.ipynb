{
 "cells": [
  {
   "cell_type": "markdown",
   "metadata": {},
   "source": [
    "## Error Analysis\n",
    "Let's compare the predictions of One v. Rest Multinomial Naive Bayes and BERT on Travel data. "
   ]
  },
  {
   "cell_type": "code",
   "execution_count": 1,
   "metadata": {},
   "outputs": [],
   "source": [
    "import pandas as pd"
   ]
  },
  {
   "cell_type": "code",
   "execution_count": null,
   "metadata": {},
   "outputs": [],
   "source": [
    "df = pd.read_csv('../data/travel_error_analysis.csv', index_col=0)"
   ]
  },
  {
   "cell_type": "code",
   "execution_count": 5,
   "metadata": {},
   "outputs": [
    {
     "data": {
      "text/html": [
       "<div>\n",
       "<style scoped>\n",
       "    .dataframe tbody tr th:only-of-type {\n",
       "        vertical-align: middle;\n",
       "    }\n",
       "\n",
       "    .dataframe tbody tr th {\n",
       "        vertical-align: top;\n",
       "    }\n",
       "\n",
       "    .dataframe thead th {\n",
       "        text-align: right;\n",
       "    }\n",
       "</style>\n",
       "<table border=\"1\" class=\"dataframe\">\n",
       "  <thead>\n",
       "    <tr style=\"text-align: right;\">\n",
       "      <th></th>\n",
       "      <th>Comment</th>\n",
       "      <th>Tags</th>\n",
       "      <th>NB_Preds</th>\n",
       "      <th>BERT_Preds</th>\n",
       "    </tr>\n",
       "  </thead>\n",
       "  <tbody>\n",
       "    <tr>\n",
       "      <th>6344</th>\n",
       "      <td>is testing and quarantining required if fully ...</td>\n",
       "      <td>Can I enter Canada</td>\n",
       "      <td>Restrictions or Requirements</td>\n",
       "      <td>Restrictions or Requirements</td>\n",
       "    </tr>\n",
       "    <tr>\n",
       "      <th>6223</th>\n",
       "      <td>i would like to have you please address how fu...</td>\n",
       "      <td>Can I enter Canada</td>\n",
       "      <td>Can I enter Canada</td>\n",
       "      <td>Can I enter Canada</td>\n",
       "    </tr>\n",
       "    <tr>\n",
       "      <th>1509</th>\n",
       "      <td>this is a concentration camp</td>\n",
       "      <td>Hotels</td>\n",
       "      <td>Can I enter Canada</td>\n",
       "      <td>Hotels</td>\n",
       "    </tr>\n",
       "    <tr>\n",
       "      <th>12843</th>\n",
       "      <td>looking for quarantine regulations when arrivi...</td>\n",
       "      <td>Quarantine</td>\n",
       "      <td>Restrictions or Requirements</td>\n",
       "      <td>Quarantine</td>\n",
       "    </tr>\n",
       "    <tr>\n",
       "      <th>3604</th>\n",
       "      <td>my mom i separately traveling to help my broth...</td>\n",
       "      <td>Provincial restrictions</td>\n",
       "      <td>Can I enter Canada</td>\n",
       "      <td>Provincial restrictions</td>\n",
       "    </tr>\n",
       "    <tr>\n",
       "      <th>6304</th>\n",
       "      <td>spouse of canadian citizen living in us to vis...</td>\n",
       "      <td>Can I enter Canada</td>\n",
       "      <td>Can I enter Canada</td>\n",
       "      <td>Can I enter Canada</td>\n",
       "    </tr>\n",
       "    <tr>\n",
       "      <th>9124</th>\n",
       "      <td>study permit for university of manitoba intern...</td>\n",
       "      <td>Restrictions or Requirements</td>\n",
       "      <td>Provincial restrictions</td>\n",
       "      <td>Restrictions or Requirements</td>\n",
       "    </tr>\n",
       "    <tr>\n",
       "      <th>2725</th>\n",
       "      <td>we have our own home in nova scotia which we b...</td>\n",
       "      <td>Can I enter Canada</td>\n",
       "      <td>Can I enter Canada</td>\n",
       "      <td>Can I enter Canada</td>\n",
       "    </tr>\n",
       "    <tr>\n",
       "      <th>8756</th>\n",
       "      <td>i am 80 years old asthmatic and i have post po...</td>\n",
       "      <td>Hotels</td>\n",
       "      <td>Hotels</td>\n",
       "      <td>Hotels</td>\n",
       "    </tr>\n",
       "    <tr>\n",
       "      <th>1954</th>\n",
       "      <td>having a covid test and results within 72 hour...</td>\n",
       "      <td>Testing</td>\n",
       "      <td>Testing</td>\n",
       "      <td>Testing</td>\n",
       "    </tr>\n",
       "  </tbody>\n",
       "</table>\n",
       "</div>"
      ],
      "text/plain": [
       "                                                 Comment  \\\n",
       "6344   is testing and quarantining required if fully ...   \n",
       "6223   i would like to have you please address how fu...   \n",
       "1509                        this is a concentration camp   \n",
       "12843  looking for quarantine regulations when arrivi...   \n",
       "3604   my mom i separately traveling to help my broth...   \n",
       "6304   spouse of canadian citizen living in us to vis...   \n",
       "9124   study permit for university of manitoba intern...   \n",
       "2725   we have our own home in nova scotia which we b...   \n",
       "8756   i am 80 years old asthmatic and i have post po...   \n",
       "1954   having a covid test and results within 72 hour...   \n",
       "\n",
       "                               Tags                      NB_Preds  \\\n",
       "6344             Can I enter Canada  Restrictions or Requirements   \n",
       "6223             Can I enter Canada            Can I enter Canada   \n",
       "1509                         Hotels            Can I enter Canada   \n",
       "12843                    Quarantine  Restrictions or Requirements   \n",
       "3604        Provincial restrictions            Can I enter Canada   \n",
       "6304             Can I enter Canada            Can I enter Canada   \n",
       "9124   Restrictions or Requirements       Provincial restrictions   \n",
       "2725             Can I enter Canada            Can I enter Canada   \n",
       "8756                         Hotels                        Hotels   \n",
       "1954                        Testing                       Testing   \n",
       "\n",
       "                         BERT_Preds  \n",
       "6344   Restrictions or Requirements  \n",
       "6223             Can I enter Canada  \n",
       "1509                         Hotels  \n",
       "12843                    Quarantine  \n",
       "3604        Provincial restrictions  \n",
       "6304             Can I enter Canada  \n",
       "9124   Restrictions or Requirements  \n",
       "2725             Can I enter Canada  \n",
       "8756                         Hotels  \n",
       "1954                        Testing  "
      ]
     },
     "execution_count": 5,
     "metadata": {},
     "output_type": "execute_result"
    }
   ],
   "source": [
    "df[['Comment', 'Tags', 'NB_Preds', 'BERT_Preds']].head(10)"
   ]
  },
  {
   "cell_type": "markdown",
   "metadata": {},
   "source": [
    "We see above that the Naive Bayes model predicted 5 out of 10 correctly while the BERT model predicted 9 out of 10."
   ]
  },
  {
   "cell_type": "code",
   "execution_count": null,
   "metadata": {},
   "outputs": [],
   "source": []
  }
 ],
 "metadata": {
  "kernelspec": {
   "display_name": "Python 3",
   "language": "python",
   "name": "python3"
  },
  "language_info": {
   "codemirror_mode": {
    "name": "ipython",
    "version": 3
   },
   "file_extension": ".py",
   "mimetype": "text/x-python",
   "name": "python",
   "nbconvert_exporter": "python",
   "pygments_lexer": "ipython3",
   "version": "3.8.3"
  }
 },
 "nbformat": 4,
 "nbformat_minor": 4
}
